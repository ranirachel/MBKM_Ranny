{
  "nbformat": 4,
  "nbformat_minor": 0,
  "metadata": {
    "colab": {
      "provenance": [],
      "authorship_tag": "ABX9TyOLig31A7fyCtpsbfFadK7l",
      "include_colab_link": true
    },
    "kernelspec": {
      "name": "python3",
      "display_name": "Python 3"
    },
    "language_info": {
      "name": "python"
    }
  },
  "cells": [
    {
      "cell_type": "markdown",
      "metadata": {
        "id": "view-in-github",
        "colab_type": "text"
      },
      "source": [
        "<a href=\"https://colab.research.google.com/github/ranirachel/MBKM_Ranny/blob/main/Sesi2_Mandiri.ipynb\" target=\"_parent\"><img src=\"https://colab.research.google.com/assets/colab-badge.svg\" alt=\"Open In Colab\"/></a>"
      ]
    },
    {
      "cell_type": "code",
      "execution_count": null,
      "metadata": {
        "colab": {
          "base_uri": "https://localhost:8080/"
        },
        "id": "ILzSZIKvmbkT",
        "outputId": "8361cb71-d799-47bc-e8a7-c711583dc6dd"
      },
      "outputs": [
        {
          "output_type": "stream",
          "name": "stdout",
          "text": [
            "False\n",
            "True\n",
            "True\n",
            "False\n",
            "True\n",
            "True\n",
            "True\n"
          ]
        }
      ],
      "source": [
        "a = 10\n",
        "b = 20\n",
        "print(a == b) # \n",
        "\n",
        "print(a != b) # \n",
        " \n",
        "print(a <= b) # \n",
        "\n",
        "print(a >= b) #\n",
        "\n",
        "\n",
        "a = 30\n",
        "b = 30\n",
        "print(a == b) #\n",
        "\n",
        "print(a <= b) # \n",
        "\n",
        "print(a >= b) # "
      ]
    },
    {
      "cell_type": "markdown",
      "source": [
        "**Introduction to the if Statement**\n",
        "Kita akan mulai dengan melihat tipe pernyataan yang paling dasar. Dalam bentuk yang paling sederhana, terlihat seperti ini:"
      ],
      "metadata": {
        "id": "Zh-PsbFBmxF8"
      }
    },
    {
      "cell_type": "code",
      "source": [
        "if <expr>:\n",
        "   <statement>"
      ],
      "metadata": {
        "id": "5JiGL_udmuj2"
      },
      "execution_count": null,
      "outputs": []
    },
    {
      "cell_type": "code",
      "source": [
        "x = 15 \n",
        "y = 15 "
      ],
      "metadata": {
        "id": "T7UhqCaom2ls"
      },
      "execution_count": null,
      "outputs": []
    },
    {
      "cell_type": "code",
      "source": [
        "if x < y: \n",
        "   print(\"Yes, x < y \") "
      ],
      "metadata": {
        "id": "mSiG282Rm5Uy"
      },
      "execution_count": null,
      "outputs": []
    },
    {
      "cell_type": "code",
      "source": [
        "if y > x:  # \n",
        "    print(\"Yes y > x \") "
      ],
      "metadata": {
        "id": "87JFJU4hm60Q"
      },
      "execution_count": null,
      "outputs": []
    },
    {
      "cell_type": "code",
      "source": [
        "if x != y:  # \n",
        "    print(\"Yes x != y\") "
      ],
      "metadata": {
        "id": "yVyzNoRmm8vy"
      },
      "execution_count": null,
      "outputs": []
    },
    {
      "cell_type": "code",
      "source": [
        "if x <= y: # \n",
        "    print(\"Yes x <= y\")"
      ],
      "metadata": {
        "id": "Jt5r2fiunJKt"
      },
      "execution_count": null,
      "outputs": []
    },
    {
      "cell_type": "code",
      "source": [
        "if y >= x: # ini untuk kondisi x >= y \n",
        "    print(\"Yes y > x \") "
      ],
      "metadata": {
        "id": "KKfNJ2EXnL35"
      },
      "execution_count": null,
      "outputs": []
    },
    {
      "cell_type": "code",
      "source": [
        "if 'ult' in 'grault':                # \n",
        "    print('yes')"
      ],
      "metadata": {
        "id": "71jRwBNJnNcC"
      },
      "execution_count": null,
      "outputs": []
    },
    {
      "cell_type": "code",
      "source": [
        "if 'fo' in ['foo', 'bar', 'baz']:  # \n",
        "    print('yes')\n",
        "\n",
        "    print(\"DONE\")  \n",
        "print(\"selesai\") "
      ],
      "metadata": {
        "id": "GOzUI4nFnO5b"
      },
      "execution_count": null,
      "outputs": []
    },
    {
      "cell_type": "markdown",
      "source": [
        "**Grouping Statements: Indentation and Blocks**\n",
        "Python mengikuti konvensi yang dikenal sebagai off-side rule, istilah yang diciptakan oleh ilmuwan komputer Inggris Peter J. Landin. (Istilah ini diambil dari offside dalam sepak bola.) Bahasa yang mengikuti off-side rule akan mendefinisikan blok dengan indentasi. Python adalah salah satu dari sekumpulan kecil bahasa off-side rule."
      ],
      "metadata": {
        "id": "ti0R-s8NnRBH"
      }
    },
    {
      "cell_type": "code",
      "source": [
        "x = 1\n",
        "y = 2 \n",
        "\n",
        "if x < y: \n",
        " print(\"OK\")\n",
        " \n",
        " print(\"OK JUGA\")\n",
        "\n",
        "print(\"DONE\")"
      ],
      "metadata": {
        "colab": {
          "base_uri": "https://localhost:8080/"
        },
        "id": "sBfUmXIgnUE3",
        "outputId": "111c340d-ec13-44e3-c437-a8470f054a87"
      },
      "execution_count": null,
      "outputs": [
        {
          "output_type": "stream",
          "name": "stdout",
          "text": [
            "OK\n",
            "OK JUGA\n",
            "DONE\n"
          ]
        }
      ]
    },
    {
      "cell_type": "code",
      "source": [
        "x = 3\n",
        "y = 2 \n",
        "\n",
        "if x < y: \n",
        "    print(\"OK\")\n",
        "    \n",
        "    print(\"OK JUGA\")\n",
        "\n",
        "print(\"DONE\")"
      ],
      "metadata": {
        "colab": {
          "base_uri": "https://localhost:8080/"
        },
        "id": "8pULkWMCnWQG",
        "outputId": "1dd316b9-9004-4a2a-efc0-f6d7f41a1460"
      },
      "execution_count": null,
      "outputs": [
        {
          "output_type": "stream",
          "name": "stdout",
          "text": [
            "DONE\n"
          ]
        }
      ]
    },
    {
      "cell_type": "code",
      "source": [
        "x = 2\n",
        "y = 2 \n",
        "\n",
        "if x < y: \n",
        "    print(\"OK\")\n",
        "print(\"Next\")\n",
        "\n",
        "print(\"DONE\")"
      ],
      "metadata": {
        "colab": {
          "base_uri": "https://localhost:8080/"
        },
        "id": "YrSpLjYjnaK4",
        "outputId": "7cb6bdf0-3d0b-4fd2-af7c-7e0d4e6c2058"
      },
      "execution_count": null,
      "outputs": [
        {
          "output_type": "stream",
          "name": "stdout",
          "text": [
            "Next\n",
            "DONE\n"
          ]
        }
      ]
    },
    {
      "cell_type": "code",
      "source": [
        "if x < y: \n",
        "  print(\"OK\")\n",
        "  print(\"Next\")\n",
        "\n",
        "print(\"DONE\")"
      ],
      "metadata": {
        "colab": {
          "base_uri": "https://localhost:8080/"
        },
        "id": "p9tyXfhGnc6m",
        "outputId": "c39293f3-cc18-4094-af2d-e978da739dad"
      },
      "execution_count": null,
      "outputs": [
        {
          "output_type": "stream",
          "name": "stdout",
          "text": [
            "DONE\n"
          ]
        }
      ]
    },
    {
      "cell_type": "code",
      "source": [
        "if 'baz' in ['bar', 'baz', 'qux']:\n",
        "    print('Expression was true')\n",
        "    print('Executing statement in suite')\n",
        "    print('...')\n",
        "    print('Done.')\n",
        "    \n",
        "print('After conditional')"
      ],
      "metadata": {
        "colab": {
          "base_uri": "https://localhost:8080/"
        },
        "id": "OSKPujv2nfWt",
        "outputId": "9918cc81-edc1-48b9-986b-9e0ecdd7715e"
      },
      "execution_count": null,
      "outputs": [
        {
          "output_type": "stream",
          "name": "stdout",
          "text": [
            "Expression was true\n",
            "Executing statement in suite\n",
            "...\n",
            "Done.\n",
            "After conditional\n"
          ]
        }
      ]
    },
    {
      "cell_type": "code",
      "source": [
        "# Does line execute?                        Yes    No\n",
        "#                                           ---    --\n",
        "if 'fo' in ['foo', 'bar', 'baz']:        #  Yes\n",
        "    print('Outer condition is true')      #  Yes\n",
        "\n",
        "    if 10 > 20:                           #  YES \n",
        "        print('Inner condition 1')        #        tdk eksekusi   \n",
        "\n",
        "    print('Between inner conditions')     #  YeS \n",
        "\n",
        "    if 10 < 20:                           #  YES\n",
        "        print('Inner condition 2')        #  Yes     \n",
        "\n",
        "    print('End of outer condition')       #  YES\n",
        "print('After outer condition')            #  YES   "
      ],
      "metadata": {
        "colab": {
          "base_uri": "https://localhost:8080/"
        },
        "id": "bed49DuNnhuf",
        "outputId": "42115ae4-06c0-4080-a18a-18e4904bf3e4"
      },
      "execution_count": null,
      "outputs": [
        {
          "output_type": "stream",
          "name": "stdout",
          "text": [
            "After outer condition\n"
          ]
        }
      ]
    },
    {
      "cell_type": "code",
      "source": [
        "x , y = 9, 10   \n",
        "if (x < y): \n",
        "    msg = \"x lebih kecil dari y\"\n",
        "\n",
        "print(msg) "
      ],
      "metadata": {
        "colab": {
          "base_uri": "https://localhost:8080/"
        },
        "id": "WrEhd1zPnjtl",
        "outputId": "d087b88b-6e13-4934-889c-9a4d0396cbc9"
      },
      "execution_count": null,
      "outputs": [
        {
          "output_type": "stream",
          "name": "stdout",
          "text": [
            "x lebih kecil dari y\n"
          ]
        }
      ]
    },
    {
      "cell_type": "code",
      "source": [
        "x , y = 10, 10  \n",
        "msg1 = 'x lebih besar > dari y'\n",
        "if (x < y): \n",
        "    msg1 = \"x lebih kecil dari y\"\n",
        "\n",
        "print(msg1) "
      ],
      "metadata": {
        "colab": {
          "base_uri": "https://localhost:8080/"
        },
        "id": "8IWyeBUZnlsw",
        "outputId": "25849fd7-a2ce-4f1c-b2ec-2ade514ea638"
      },
      "execution_count": null,
      "outputs": [
        {
          "output_type": "stream",
          "name": "stdout",
          "text": [
            "x lebih besar > dari y\n"
          ]
        }
      ]
    },
    {
      "cell_type": "markdown",
      "source": [
        "**The else and elif Clauses**\n",
        "Terkadang, kalian ingin mengevaluasi suatu kondisi dan mengambil satu jalur jika benar, tetapi menentukan jalur alternatif jika tidak benar. Ini dapat dilakukan dengan klausa else:\n",
        "\n",
        "if :\n",
        "    \n",
        "else:"
      ],
      "metadata": {
        "id": "woKpj4XqnpK4"
      }
    },
    {
      "cell_type": "code",
      "source": [
        "x = 20\n",
        "if x < 50:\n",
        "    print('(first suite)')\n",
        "    print('x is small')      \n",
        "else:\n",
        "    print('(second suite)')\n",
        "    print('x is large')\n",
        "\n",
        "print(\"done\") "
      ],
      "metadata": {
        "colab": {
          "base_uri": "https://localhost:8080/"
        },
        "id": "Q9zi3pgcnl4p",
        "outputId": "3de2d826-9828-41e4-dad4-b7ae9870007a"
      },
      "execution_count": null,
      "outputs": [
        {
          "output_type": "stream",
          "name": "stdout",
          "text": [
            "(first suite)\n",
            "x is small\n",
            "done\n"
          ]
        }
      ]
    },
    {
      "cell_type": "code",
      "source": [
        "x = 51\n",
        "\n",
        "if x < 50:\n",
        "    print('(first suite)')\n",
        "    print('x is small')\n",
        "else:\n",
        "    print('(second suite)')\n",
        "    print('x is large')\n",
        "\n",
        "print(\"done\") "
      ],
      "metadata": {
        "colab": {
          "base_uri": "https://localhost:8080/"
        },
        "id": "jXkVcYsyny0K",
        "outputId": "cfd4cd77-53ac-4078-cc83-75ff6464cd20"
      },
      "execution_count": null,
      "outputs": [
        {
          "output_type": "stream",
          "name": "stdout",
          "text": [
            "(second suite)\n",
            "x is large\n",
            "done\n"
          ]
        }
      ]
    },
    {
      "cell_type": "code",
      "source": [
        "hargaBuku = 20000\n",
        "hargaMajalah = 5000\n",
        "uang = 20000\n",
        "\n",
        "if uang > hargaBuku:\n",
        "    print(\"beli buku\")\n",
        "else:\n",
        "    print(\"uang tidak cukup\")"
      ],
      "metadata": {
        "colab": {
          "base_uri": "https://localhost:8080/"
        },
        "id": "kv2qUbw4n0xO",
        "outputId": "e0a0a8bf-2b36-453f-d3d4-5cfd72996523"
      },
      "execution_count": null,
      "outputs": [
        {
          "output_type": "stream",
          "name": "stdout",
          "text": [
            "uang tidak cukup\n"
          ]
        }
      ]
    },
    {
      "cell_type": "code",
      "source": [
        "hargaBuku = 20000\n",
        "hargaMajalah = 50000\n",
        "uang = 19000 + 1000\n",
        "\n",
        "# msg = \"uang tidak cukup\"\n",
        "if uang >= hargaMajalah:\n",
        "    #print(\"beli majalah\")\n",
        "    msg = \"beli majalah\"\n",
        "elif uang >= hargaBuku:\n",
        "    #print(\"beli buku\")   \n",
        "    msg = \"beli buku\"\n",
        "else:\n",
        "    #print(\"uang tidak cukup\")\n",
        "    msg = \"uang tidak cukup\" \n",
        "    \n",
        "print(msg)    \n",
        "print(\"done\")  "
      ],
      "metadata": {
        "colab": {
          "base_uri": "https://localhost:8080/"
        },
        "id": "MEEZbfmpn2-c",
        "outputId": "5c11605d-5aa1-49a2-d68f-5f4505154a65"
      },
      "execution_count": null,
      "outputs": [
        {
          "output_type": "stream",
          "name": "stdout",
          "text": [
            "beli buku\n",
            "done\n"
          ]
        }
      ]
    },
    {
      "cell_type": "code",
      "source": [
        "name = 'Hacktiv88'\n",
        "if name == 'Fred':\n",
        "    print('Hello Fred')\n",
        "elif name == 'Xander':\n",
        "    print('Hello Xander')\n",
        "elif name == 'Hacktiv8':\n",
        "    print('Hello Hacktiv8')\n",
        "elif name == 'Arnold':\n",
        "    print('Hello Arnold')\n",
        "else:\n",
        "    print(\"I don't know who you are!\")"
      ],
      "metadata": {
        "colab": {
          "base_uri": "https://localhost:8080/"
        },
        "id": "yuwn_EPNn59p",
        "outputId": "88455c7f-de09-48ab-b22d-9e205c6d6599"
      },
      "execution_count": null,
      "outputs": [
        {
          "output_type": "stream",
          "name": "stdout",
          "text": [
            "I don't know who you are!\n"
          ]
        }
      ]
    },
    {
      "cell_type": "code",
      "source": [
        "bool(10 % 3) \n",
        "bool(0)\n",
        "bool(5)"
      ],
      "metadata": {
        "colab": {
          "base_uri": "https://localhost:8080/"
        },
        "id": "I6TNl-IOn78v",
        "outputId": "fd32b115-baad-478e-d3af-7d1a7f8b3005"
      },
      "execution_count": null,
      "outputs": [
        {
          "output_type": "execute_result",
          "data": {
            "text/plain": [
              "True"
            ]
          },
          "metadata": {},
          "execution_count": 21
        }
      ]
    },
    {
      "cell_type": "code",
      "source": [
        "var =True  \n",
        "\n",
        "if 's' in 'bar':\n",
        "    print('foo')\n",
        "elif bool(10 % 2):\n",
        "    print(\"This won't happen\")\n",
        "elif var:\n",
        "    print(\"This won't either\")"
      ],
      "metadata": {
        "colab": {
          "base_uri": "https://localhost:8080/"
        },
        "id": "52kNVRTmn-AR",
        "outputId": "2a37653c-d28a-4f4a-d735-af5ed237dc78"
      },
      "execution_count": null,
      "outputs": [
        {
          "output_type": "stream",
          "name": "stdout",
          "text": [
            "This won't either\n"
          ]
        }
      ]
    },
    {
      "cell_type": "markdown",
      "source": [
        "**One-Line if Statements**"
      ],
      "metadata": {
        "id": "6S9P__bVoBDw"
      }
    },
    {
      "cell_type": "code",
      "source": [
        "if 'f' in 'foo': print('1'); print('2'); print('3')"
      ],
      "metadata": {
        "colab": {
          "base_uri": "https://localhost:8080/"
        },
        "id": "Gynfb91QoANp",
        "outputId": "fbe24183-4f1c-4bea-95a6-3ca93d14727e"
      },
      "execution_count": null,
      "outputs": [
        {
          "output_type": "stream",
          "name": "stdout",
          "text": [
            "1\n",
            "2\n",
            "3\n"
          ]
        }
      ]
    },
    {
      "cell_type": "code",
      "source": [
        "if 'z' in 'foo': print('1'); print('2'); print('3')"
      ],
      "metadata": {
        "id": "JZEqlaWAoK4X"
      },
      "execution_count": null,
      "outputs": []
    },
    {
      "cell_type": "code",
      "source": [
        "x = 2\n",
        "\n",
        "if x == 1: print('foo'); print('bar'); print('baz')\n",
        "elif x == 2: print('qux'); print('quux')\n",
        "else: print('corge'); print('grault')"
      ],
      "metadata": {
        "colab": {
          "base_uri": "https://localhost:8080/"
        },
        "id": "gSXIbmf1oMkz",
        "outputId": "c5c81af8-be90-4466-d66d-bf30f1e3e543"
      },
      "execution_count": null,
      "outputs": [
        {
          "output_type": "stream",
          "name": "stdout",
          "text": [
            "qux\n",
            "quux\n"
          ]
        }
      ]
    },
    {
      "cell_type": "code",
      "source": [
        "x = 3\n",
        "if x == 1: print('foo'); print('bar'); print('baz')\n",
        "elif x == 2: print('qux'); print('quux')\n",
        "else: print('corge'); print('grault')"
      ],
      "metadata": {
        "colab": {
          "base_uri": "https://localhost:8080/"
        },
        "id": "qgkp8OzVoOKA",
        "outputId": "46cdfe31-e79c-4f69-fef0-0ba846f14534"
      },
      "execution_count": null,
      "outputs": [
        {
          "output_type": "stream",
          "name": "stdout",
          "text": [
            "corge\n",
            "grault\n"
          ]
        }
      ]
    },
    {
      "cell_type": "code",
      "source": [
        "x = 3\n",
        "if x == 1:\n",
        "    print('foo')\n",
        "    print('bar')\n",
        "    print('baz')\n",
        "elif x == 2:\n",
        "    print('qux')\n",
        "    print('quux')\n",
        "else:\n",
        "    print('corge')\n",
        "    print('grault')"
      ],
      "metadata": {
        "colab": {
          "base_uri": "https://localhost:8080/"
        },
        "id": "EJ_hDCGNoP1w",
        "outputId": "9aeb8dff-fe87-4231-858e-c2ef87cd485a"
      },
      "execution_count": null,
      "outputs": [
        {
          "output_type": "stream",
          "name": "stdout",
          "text": [
            "corge\n",
            "grault\n"
          ]
        }
      ]
    },
    {
      "cell_type": "markdown",
      "source": [
        "Conditional Expressions (Python’s Ternary Operator)\n",
        "Dalam bentuknya yang paling sederhana, sintaks dari conditional expression adalah sebagai berikut:\n"
      ],
      "metadata": {
        "id": "xkDUGsivcmAD"
      }
    },
    {
      "cell_type": "code",
      "source": [
        "print(\"Hello\") if 'H' in \"hello\" else print(\"Hai\") "
      ],
      "metadata": {
        "colab": {
          "base_uri": "https://localhost:8080/"
        },
        "id": "yjH9pGaRcoKE",
        "outputId": "81d9a1a0-a991-49d6-de58-54da5d9cdbdd"
      },
      "execution_count": null,
      "outputs": [
        {
          "output_type": "stream",
          "name": "stdout",
          "text": [
            "Hai\n"
          ]
        }
      ]
    },
    {
      "cell_type": "code",
      "source": [
        "raining = False  # False \n",
        "print(\"Let's go to the\", 'beach' if not raining else 'library')"
      ],
      "metadata": {
        "colab": {
          "base_uri": "https://localhost:8080/"
        },
        "id": "h1NLd6vmcqt-",
        "outputId": "94104776-e90c-4b60-ce1b-9ce812ac886e"
      },
      "execution_count": null,
      "outputs": [
        {
          "output_type": "stream",
          "name": "stdout",
          "text": [
            "Let's go to the beach\n"
          ]
        }
      ]
    },
    {
      "cell_type": "code",
      "source": [
        "print(\"Let's go to the\", 'beach')"
      ],
      "metadata": {
        "id": "GwIM7MqwctPN"
      },
      "execution_count": null,
      "outputs": []
    },
    {
      "cell_type": "code",
      "source": [
        "raining = True\n",
        "print(\"Let's go to the\", 'beach' if not raining else 'library')"
      ],
      "metadata": {
        "colab": {
          "base_uri": "https://localhost:8080/"
        },
        "id": "kvvS4-5zcvgJ",
        "outputId": "ec76dba7-05a9-4780-b222-3eb521a43c0e"
      },
      "execution_count": null,
      "outputs": [
        {
          "output_type": "stream",
          "name": "stdout",
          "text": [
            "Let's go to the library\n"
          ]
        }
      ]
    },
    {
      "cell_type": "code",
      "source": [
        "age = 10\n",
        "vaksin = 'blm bisa vaksin' if age <= 5 else 'sudah bisa vaksin'\n",
        "\n",
        "print(vaksin)"
      ],
      "metadata": {
        "id": "tOzyskdacwta"
      },
      "execution_count": null,
      "outputs": []
    },
    {
      "cell_type": "code",
      "source": [
        "print('yes') if ('baz' in ['foo', 'bar', 'baz']) else print('no')"
      ],
      "metadata": {
        "id": "mbxRELMKc1l9"
      },
      "execution_count": null,
      "outputs": []
    },
    {
      "cell_type": "code",
      "source": [
        "# lebih mudah mana ? bebas kalian yang pilih \n",
        "if ('baz' in ['foo', 'bar', 'baz']): \n",
        "    print(\"yes\")\n",
        "else:\n",
        "    print(\"no\")"
      ],
      "metadata": {
        "colab": {
          "base_uri": "https://localhost:8080/"
        },
        "id": "YatWj5x9c3Ky",
        "outputId": "103e8439-b40e-466c-b55c-0f55ebeda56b"
      },
      "execution_count": null,
      "outputs": [
        {
          "output_type": "stream",
          "name": "stdout",
          "text": [
            "yes\n"
          ]
        }
      ]
    },
    {
      "cell_type": "code",
      "source": [
        "Latihan Tugas Praktik\n",
        "Membuat suatu program menentukan suatu nilai pada variable tersebut genap atau ganjil! \n",
        "Kita coba lakukan langkah sebagai berikut:\n",
        "\n",
        "Buat variabel dengan nama “angka” isi dengan nilai 20\n",
        "Ganti bagian ... dengan perhitungan untuk menentukan angka modulus 2 bernilai 0.\n",
        "dilakukan pengecekan apakah benar dia bernilai genap maka mencetak \"angka ini bilangan genap\",\n",
        "jika sudah ganti nilai variable angka dengan nilai yang lain untuk melakukan pengecekan apakah sdh benar code tersebut jika suatu nilai tersebut bilangan ganjil akan mencetak cek lagi apakah dia bernilai ganjil dan keluarkan \"angka termasuk bilangan ganjil\".\n",
        "angka=10\n",
        "\n",
        "if(.....):\n",
        "    print(\"angka ini bilangan genap\")\n",
        "else:\n",
        "    print(\"angka ini bilangan ganjil\")"
      ],
      "metadata": {
        "id": "iCZJCT32c6PC"
      },
      "execution_count": null,
      "outputs": []
    },
    {
      "cell_type": "code",
      "source": [
        "\n",
        "bool(0)\n"
      ],
      "metadata": {
        "colab": {
          "base_uri": "https://localhost:8080/"
        },
        "id": "Y6PNNfznc-PU",
        "outputId": "be018810-4460-4c27-bc2e-f56acae8f545"
      },
      "execution_count": null,
      "outputs": [
        {
          "output_type": "execute_result",
          "data": {
            "text/plain": [
              "False"
            ]
          },
          "metadata": {},
          "execution_count": 5
        }
      ]
    },
    {
      "cell_type": "code",
      "source": [
        "angka=20\n",
        "\n",
        "if ((angka % 2)):\n",
        "    print(\"angka ini bilangan ganjil\")\n",
        "else:\n",
        "    print(\"angka ini bilangan genap\")"
      ],
      "metadata": {
        "colab": {
          "base_uri": "https://localhost:8080/"
        },
        "id": "tFKmG4PRc-VA",
        "outputId": "c0cfb857-a26d-4f92-d5f5-34f08790e80d"
      },
      "execution_count": null,
      "outputs": [
        {
          "output_type": "stream",
          "name": "stdout",
          "text": [
            "angka ini bilangan genap\n"
          ]
        }
      ]
    },
    {
      "cell_type": "markdown",
      "source": [
        "The Python pass Statement\n",
        "Terkadang, kalian mungkin menemukan bahwa kalian ingin menulis apa yang disebut code stub: placeholder tempat kalian pada akhirnya akan meletakkan blok kode yang belum kalian terapkan."
      ],
      "metadata": {
        "id": "OCfZ5efadHef"
      }
    },
    {
      "cell_type": "code",
      "source": [
        "x = 10 \n",
        "y = 11 \n",
        "if  x<y:\n",
        "    #Todo buat stament apa yang terjadi jika benar \n",
        "    pass  \n",
        "print('foo')"
      ],
      "metadata": {
        "id": "k3wI752OdKAs"
      },
      "execution_count": null,
      "outputs": []
    },
    {
      "cell_type": "code",
      "source": [
        "if True:\n",
        "    #Todo nanti akan ditambahkan \n",
        "    pass\n",
        "print('foo')"
      ],
      "metadata": {
        "id": "I11MznmgdL2u"
      },
      "execution_count": null,
      "outputs": []
    },
    {
      "cell_type": "code",
      "source": [
        "for i in 'selfhelp':\n",
        "        pass\n",
        "print(i)"
      ],
      "metadata": {
        "id": "qtZCN9xbdOgb"
      },
      "execution_count": null,
      "outputs": []
    },
    {
      "cell_type": "markdown",
      "source": [
        "Python \"while\" Loops\n",
        "Iteration artinya mengeksekusi blok kode yang sama berulang kali, berpotensi berkali-kali. Struktur pemrograman yang mengimplementasikan iterasi disebut loop."
      ],
      "metadata": {
        "id": "lCd5FxGYdT8Q"
      }
    },
    {
      "cell_type": "code",
      "source": [
        "while <expr>:\n",
        "    <statement(s)>"
      ],
      "metadata": {
        "id": "tSB68vc2dSqz"
      },
      "execution_count": null,
      "outputs": []
    },
    {
      "cell_type": "code",
      "source": [
        "x = 10 \n",
        "y = 11 \n",
        "while x < y: \n",
        "    print(\"Helo looping terus\")"
      ],
      "metadata": {
        "id": "2EORzvwHdXwX"
      },
      "execution_count": null,
      "outputs": []
    },
    {
      "cell_type": "markdown",
      "source": [
        "**The Python break and continue Statements**"
      ],
      "metadata": {
        "id": "4-GCf1lWdmp1"
      }
    },
    {
      "cell_type": "code",
      "source": [
        "i=0\n",
        "while(i<8):\n",
        "    i+=1\n",
        "    if(i==6): continue\n",
        "    print(i)"
      ],
      "metadata": {
        "colab": {
          "base_uri": "https://localhost:8080/"
        },
        "id": "PwJauHjAdr_H",
        "outputId": "620363af-8bcf-4c3e-ac23-e86767f9abd0"
      },
      "execution_count": null,
      "outputs": [
        {
          "output_type": "stream",
          "name": "stdout",
          "text": [
            "1\n",
            "2\n",
            "3\n",
            "4\n",
            "5\n",
            "7\n",
            "8\n"
          ]
        }
      ]
    },
    {
      "cell_type": "code",
      "source": [
        "n = 5\n",
        "while n > 0:                 # 5 > 0  : true        #  4 > 0 \n",
        "    n -= 1  # 4 , 3          # 5 - 1 = 4            #  4 - 1 = 3 \n",
        "    if n == 3:               # 4 == 3 : false       #. 3 == 3 : true \n",
        "        break # Break Statement   # escape          #    break \n",
        "    print(n)                 # print(n) = 4      \n",
        "print('Loop ended.')\n"
      ],
      "metadata": {
        "colab": {
          "base_uri": "https://localhost:8080/"
        },
        "id": "7TMBdmEYdvML",
        "outputId": "6e0ee2af-3bc5-4a45-c812-3e68ef6fa6b7"
      },
      "execution_count": null,
      "outputs": [
        {
          "output_type": "stream",
          "name": "stdout",
          "text": [
            "4\n",
            "Loop ended.\n"
          ]
        }
      ]
    },
    {
      "cell_type": "code",
      "source": [
        "n = 10\n",
        "while n > 0:                   # 5 > 0  : true      # 4 > 0              # 3 > 0                  # 2 >0 \n",
        "    n -= 1                     # 5 - 1 = 4          # 4 -1 = 3           # 3 -1 = 2               # 2-1 = 1\n",
        "    if n % 2 == 0:             # if 4 % 2 == 0 : True  # if 3 % 2 == 0 : # if 2 % 2 == 0 : true   # 1 % 2 == 0  : false  \n",
        "        continue               #   continue                              #   continue            \n",
        "    print(n)                                        # print(3)                                      # print(1)\n",
        "print('Loop ended.')"
      ],
      "metadata": {
        "colab": {
          "base_uri": "https://localhost:8080/"
        },
        "id": "eNYO1jW7dz69",
        "outputId": "6054464b-a9b0-4d0e-f093-4ac4e726ffb9"
      },
      "execution_count": null,
      "outputs": [
        {
          "output_type": "stream",
          "name": "stdout",
          "text": [
            "9\n",
            "7\n",
            "5\n",
            "3\n",
            "1\n",
            "Loop ended.\n"
          ]
        }
      ]
    },
    {
      "cell_type": "markdown",
      "source": [
        "**The else Clause**\n",
        "Python memungkinkan adanya klausa else opsional di akhir loop while. Ini adalah fitur unik Python, tidak ditemukan di sebagian besar bahasa pemrograman lainnya. Sintaksnya ditunjukkan di bawah ini:\n",
        "while :\n",
        "    \n",
        "else:"
      ],
      "metadata": {
        "id": "QMidCx9Td4wS"
      }
    },
    {
      "cell_type": "code",
      "source": [
        "n = 5\n",
        "while n > 0:\n",
        "    n -= 1\n",
        "    print(n) \n",
        "    x = n +1 \n",
        "else:\n",
        "    print('Loop done.')\n",
        "    y = 0 \n",
        "\n",
        "print(x)    \n",
        "print(y)"
      ],
      "metadata": {
        "colab": {
          "base_uri": "https://localhost:8080/"
        },
        "id": "8Oaf_359d5kl",
        "outputId": "d20c09ce-1907-4deb-adae-a89ed70cff03"
      },
      "execution_count": null,
      "outputs": [
        {
          "output_type": "stream",
          "name": "stdout",
          "text": [
            "4\n",
            "3\n",
            "2\n",
            "1\n",
            "0\n",
            "Loop done.\n",
            "1\n",
            "0\n"
          ]
        }
      ]
    },
    {
      "cell_type": "code",
      "source": [
        "n = 5\n",
        "while n > 0:\n",
        "    n -= 1\n",
        "    print(n)\n",
        "    if n == 2:\n",
        "        break\n",
        "else:\n",
        "    print('Loop done.') \n",
        "\n",
        "# Loop diatas diakhiri sebelum waktunya dengan break, sehingga klausa e"
      ],
      "metadata": {
        "colab": {
          "base_uri": "https://localhost:8080/"
        },
        "id": "jJST4YVleAwe",
        "outputId": "9f9885bf-f370-44b9-f62d-a2712de96aa7"
      },
      "execution_count": null,
      "outputs": [
        {
          "output_type": "stream",
          "name": "stdout",
          "text": [
            "4\n",
            "3\n",
            "2\n"
          ]
        }
      ]
    },
    {
      "cell_type": "markdown",
      "source": [
        "**Infinite Loops**\n",
        "Misalkan kalian menulis while loop yang secara teoritis tidak pernah berakhir. Kedengarannya aneh, bukan?\n",
        "\n",
        "while True: print('foo')\n",
        "\n",
        "**Nested while Loops**\n",
        "Secara umum, struktur kontrol Python dapat di-nest satu sama lain. Misalnya, if / elif / else bisa di-nest:\n"
      ],
      "metadata": {
        "id": "4PBAztJXeO0O"
      }
    },
    {
      "cell_type": "code",
      "source": [
        "age = 65 \n",
        "gender = 'F'\n",
        "\n",
        "if age < 18:\n",
        "    if gender == 'M':\n",
        "        print('son')\n",
        "    else:\n",
        "        print('daughter')\n",
        "elif age >= 18 and age < 65:    # age >= 18  = True  and  False \n",
        "    if gender == 'M':\n",
        "        print('father')\n",
        "    else:\n",
        "        print('mother')\n",
        "else:\n",
        "    if gender == 'M':\n",
        "        print('grandfather')\n",
        "    else:\n",
        "        print('grandmother')"
      ],
      "metadata": {
        "id": "ZgnVT-2JedfZ"
      },
      "execution_count": null,
      "outputs": []
    },
    {
      "cell_type": "code",
      "source": [
        "a = ['foo', 'bar']\n",
        "len(a)"
      ],
      "metadata": {
        "colab": {
          "base_uri": "https://localhost:8080/"
        },
        "id": "cWBc95CSeg14",
        "outputId": "49f4ce4d-a1fc-4a89-b9ca-b7969fbab897"
      },
      "execution_count": null,
      "outputs": [
        {
          "output_type": "execute_result",
          "data": {
            "text/plain": [
              "2"
            ]
          },
          "metadata": {},
          "execution_count": 15
        }
      ]
    },
    {
      "cell_type": "code",
      "source": [
        "a = ['foo', 'bar']\n",
        "print(\"atas\",len(a))\n",
        "while len(a):\n",
        "    print(\"didlm while \", len(a))\n",
        "    print(a.pop(0))   # get list \n",
        "    print(\"setelah di pop \", len(a))\n",
        "    print(10*\"=====\")"
      ],
      "metadata": {
        "colab": {
          "base_uri": "https://localhost:8080/"
        },
        "id": "BWZOVkUFejQR",
        "outputId": "9a7f051e-5992-4f51-aac6-a08d16d62895"
      },
      "execution_count": null,
      "outputs": [
        {
          "output_type": "stream",
          "name": "stdout",
          "text": [
            "atas 2\n",
            "didlm while  2\n",
            "foo\n",
            "setelah di pop  1\n",
            "==================================================\n",
            "didlm while  1\n",
            "bar\n",
            "setelah di pop  0\n",
            "==================================================\n"
          ]
        }
      ]
    },
    {
      "cell_type": "code",
      "source": [
        "a = ['foo', 'bar']\n",
        "\n",
        "while len(a):\n",
        "    print(a.pop(0))\n",
        "    \n",
        "    b = ['baz', 'qux']\n",
        "    \n",
        "    while len(b):\n",
        "        print('>', b.pop(0))"
      ],
      "metadata": {
        "colab": {
          "base_uri": "https://localhost:8080/"
        },
        "id": "B28IyTqUeoqK",
        "outputId": "6ce08f36-a9b5-401f-9d33-48b3852bd397"
      },
      "execution_count": null,
      "outputs": [
        {
          "output_type": "stream",
          "name": "stdout",
          "text": [
            "foo\n",
            "> baz\n",
            "> qux\n",
            "bar\n",
            "> baz\n",
            "> qux\n"
          ]
        }
      ]
    },
    {
      "cell_type": "markdown",
      "source": [
        "**One Line While Loops**"
      ],
      "metadata": {
        "id": "rJzsheZDetaD"
      }
    },
    {
      "cell_type": "code",
      "source": [
        "n = 5\n",
        "while n > 0: n -= 1; print(n)"
      ],
      "metadata": {
        "colab": {
          "base_uri": "https://localhost:8080/"
        },
        "id": "sCUFRZTDe29M",
        "outputId": "80bf225a-30ad-4279-9307-ad0cb7727e7d"
      },
      "execution_count": null,
      "outputs": [
        {
          "output_type": "stream",
          "name": "stdout",
          "text": [
            "4\n",
            "3\n",
            "2\n",
            "1\n",
            "0\n"
          ]
        }
      ]
    },
    {
      "cell_type": "markdown",
      "source": [
        "**Numeric Range Loop**"
      ],
      "metadata": {
        "id": "HaRGa703fAGO"
      }
    },
    {
      "cell_type": "code",
      "source": [
        "for i = 1 to 10\n",
        "    <loop body>"
      ],
      "metadata": {
        "id": "_Mlros25e4sy"
      },
      "execution_count": null,
      "outputs": []
    },
    {
      "cell_type": "markdown",
      "source": [
        "**Three-Expression Loop**"
      ],
      "metadata": {
        "id": "debf9pS1fG8Y"
      }
    },
    {
      "cell_type": "code",
      "source": [
        "for (i = 1; i <= 10; i++)\n",
        "   #<loop body>"
      ],
      "metadata": {
        "id": "migK008gfKDX"
      },
      "execution_count": null,
      "outputs": []
    },
    {
      "cell_type": "markdown",
      "source": [
        "**Collection-Based or Iterator-Based Loop**"
      ],
      "metadata": {
        "id": "xDYQuJK8fWTE"
      }
    },
    {
      "cell_type": "code",
      "source": [
        "for i in <collection>\n",
        "    <loop body>"
      ],
      "metadata": {
        "id": "R82wbLuQfaIq"
      },
      "execution_count": null,
      "outputs": []
    },
    {
      "cell_type": "markdown",
      "source": [
        "**The Python for Loop**\n",
        "Dari jenis loop yang tercantum di atas, Python hanya mengimplementasikan iterasi terakhir: collection-based."
      ],
      "metadata": {
        "id": "H72R8nwkfcVp"
      }
    },
    {
      "cell_type": "code",
      "source": [
        "for <var> in <iterable>:\n",
        "    <statement(s)>"
      ],
      "metadata": {
        "id": "--vXuDZ5ffWo"
      },
      "execution_count": null,
      "outputs": []
    },
    {
      "cell_type": "code",
      "source": [
        "a = ['foo', 'bar', 'baz']\n",
        "for i in a:\n",
        "    print(i)"
      ],
      "metadata": {
        "colab": {
          "base_uri": "https://localhost:8080/"
        },
        "id": "9YLckUsvfhoL",
        "outputId": "a955319d-a95c-4611-dcbc-173947c2bbfc"
      },
      "execution_count": null,
      "outputs": [
        {
          "output_type": "stream",
          "name": "stdout",
          "text": [
            "foo\n",
            "bar\n",
            "baz\n"
          ]
        }
      ]
    },
    {
      "cell_type": "markdown",
      "source": [
        "**Iterating Through a Dictionary**"
      ],
      "metadata": {
        "id": "HlVoYIOefoYA"
      }
    },
    {
      "cell_type": "code",
      "source": [
        "# dictonary \n",
        "d = {'foo': 1, 'bar': 2, 'baz': 3}\n",
        "for k in d:\n",
        "    print(k)"
      ],
      "metadata": {
        "colab": {
          "base_uri": "https://localhost:8080/"
        },
        "id": "Z-CKUDSyfk6F",
        "outputId": "1baddb33-17a4-49a2-c6fa-3d9e73f3f829"
      },
      "execution_count": null,
      "outputs": [
        {
          "output_type": "stream",
          "name": "stdout",
          "text": [
            "foo\n",
            "bar\n",
            "baz\n"
          ]
        }
      ]
    },
    {
      "cell_type": "code",
      "source": [
        "# get value menggunakan key \n",
        "for k in d:\n",
        "    print(d[k])"
      ],
      "metadata": {
        "colab": {
          "base_uri": "https://localhost:8080/"
        },
        "id": "mzoOuBHGfuv2",
        "outputId": "5638b8af-75c5-47cf-d588-06a0fafd1edd"
      },
      "execution_count": null,
      "outputs": [
        {
          "output_type": "stream",
          "name": "stdout",
          "text": [
            "1\n",
            "2\n",
            "3\n"
          ]
        }
      ]
    },
    {
      "cell_type": "code",
      "source": [
        "for k in d.values():\n",
        "    print(k)"
      ],
      "metadata": {
        "colab": {
          "base_uri": "https://localhost:8080/"
        },
        "id": "ATxZdLUrfxoJ",
        "outputId": "668a2761-4546-4b97-f71c-e05569803d4f"
      },
      "execution_count": null,
      "outputs": [
        {
          "output_type": "stream",
          "name": "stdout",
          "text": [
            "1\n",
            "2\n",
            "3\n"
          ]
        }
      ]
    },
    {
      "cell_type": "code",
      "source": [
        "for k, v in d.items(): \n",
        "    print(k, \":\", v)"
      ],
      "metadata": {
        "colab": {
          "base_uri": "https://localhost:8080/"
        },
        "id": "BaKtNZo_fzd2",
        "outputId": "58ecf4c1-3dbc-4a0d-fc44-abefbf299189"
      },
      "execution_count": null,
      "outputs": [
        {
          "output_type": "stream",
          "name": "stdout",
          "text": [
            "foo : 1\n",
            "bar : 2\n",
            "baz : 3\n"
          ]
        }
      ]
    },
    {
      "cell_type": "markdown",
      "source": [
        "**The range() Function**\n",
        "Di bagian pertama sesi ini, kalian melihat jenis loop for yang disebut numeric range loop, di mana nilai \n",
        "numerik awal dan akhir ditentukan. Meskipun bentuk perulangan for ini tidak built in dalam Python, \n",
        "namun mudah diibuat."
      ],
      "metadata": {
        "id": "xMN1xaVkf14t"
      }
    },
    {
      "cell_type": "code",
      "source": [
        "for n in (0, 1, 2, 3, 4):\n",
        "    if n >=1: \n",
        "        print(n)"
      ],
      "metadata": {
        "id": "Mft-RUTwf398"
      },
      "execution_count": null,
      "outputs": []
    },
    {
      "cell_type": "code",
      "source": [
        "x = range(5)\n",
        "print(x)\n",
        "for n in x:\n",
        "    print(n)"
      ],
      "metadata": {
        "id": "duAS819nf6fz"
      },
      "execution_count": null,
      "outputs": []
    },
    {
      "cell_type": "markdown",
      "source": [
        "**Altering for Loop Behavior**\n",
        "diinterupsi dengan pernyataan break and continue dan dimodifikasi dengan klausa else , sama dengan sebelumnya \n",
        "while loop"
      ],
      "metadata": {
        "id": "-3SgHzjLf-mf"
      }
    },
    {
      "cell_type": "code",
      "source": [
        "for i in ['foo', 'bar', 'baz', 'qux']:\n",
        "    if 'z' in i:\n",
        "        break\n",
        "    print(i)"
      ],
      "metadata": {
        "colab": {
          "base_uri": "https://localhost:8080/"
        },
        "id": "DnGBzK1Bf81k",
        "outputId": "c0d1fb8a-b554-4a84-cce6-a3a5974d47c0"
      },
      "execution_count": null,
      "outputs": [
        {
          "output_type": "stream",
          "name": "stdout",
          "text": [
            "foo\n",
            "bar\n"
          ]
        }
      ]
    },
    {
      "cell_type": "code",
      "source": [
        "for i in ['foo', 'bar', 'baz', 'qux']:\n",
        "    if 'b' in i:\n",
        "        continue\n",
        "    print(i)"
      ],
      "metadata": {
        "colab": {
          "base_uri": "https://localhost:8080/"
        },
        "id": "a4Io2I1igB96",
        "outputId": "f066cf54-230f-4a7b-d278-28085a3ed3ac"
      },
      "execution_count": null,
      "outputs": [
        {
          "output_type": "stream",
          "name": "stdout",
          "text": [
            "foo\n",
            "qux\n"
          ]
        }
      ]
    },
    {
      "cell_type": "markdown",
      "source": [
        "**The else Clause**"
      ],
      "metadata": {
        "id": "i0xv6sCRgF0l"
      }
    },
    {
      "cell_type": "code",
      "source": [
        "for i in ['foo', 'bar', 'baz', 'qux']:\n",
        "    print(i)\n",
        "else:\n",
        "    print('Done.')  # Will execute"
      ],
      "metadata": {
        "colab": {
          "base_uri": "https://localhost:8080/"
        },
        "id": "JmFT12-YgDLS",
        "outputId": "f309dbec-5c6e-4464-ed42-f9ffd8bb5eba"
      },
      "execution_count": null,
      "outputs": [
        {
          "output_type": "stream",
          "name": "stdout",
          "text": [
            "foo\n",
            "bar\n",
            "baz\n",
            "qux\n",
            "Done.\n"
          ]
        }
      ]
    },
    {
      "cell_type": "code",
      "source": [
        "for i in ['foo', 'bar', 'baz', 'qux']:\n",
        "    if i == 'bar':\n",
        "        break\n",
        "    print(i)\n",
        "else:\n",
        "    print('Done.')  # Will not execute"
      ],
      "metadata": {
        "colab": {
          "base_uri": "https://localhost:8080/"
        },
        "id": "Am-r_9yWgMPb",
        "outputId": "99d8e984-b39a-4ee6-f2f5-ae551529a17a"
      },
      "execution_count": null,
      "outputs": [
        {
          "output_type": "stream",
          "name": "stdout",
          "text": [
            "foo\n"
          ]
        }
      ]
    },
    {
      "cell_type": "code",
      "source": [
        "# \n",
        "temp = input(\"Ketikan temperatur yang ingin dikonversi, eg. 45F, 120C: \")\n",
        "print(type(temp))\n",
        "degree = int(temp[:-1])\n",
        "print(\"degree:\",degree)\n",
        "i_convertion = temp[-1]\n",
        "print(\"convertion:\",i_convertion) \n",
        "result = 0 \n",
        "if i_convertion == \"C\":\n",
        "    result = int(round((9 * degree) / 5 + 32))\n",
        "elif i_convertion == \"F\":\n",
        "    result = int(round((degree - 32) * 5 / 9))\n",
        "else:\n",
        "    print(\"Masukan input yang benar\")\n",
        "\n",
        "print(\"Temperaturnya adalah\", result, \"derajat\")"
      ],
      "metadata": {
        "colab": {
          "base_uri": "https://localhost:8080/"
        },
        "id": "Yug5YWqzgOcC",
        "outputId": "cee37d96-4700-4b1b-da93-b883062d6e0c"
      },
      "execution_count": null,
      "outputs": [
        {
          "output_type": "stream",
          "name": "stdout",
          "text": [
            "Ketikan temperatur yang ingin dikonversi, eg. 45F, 120C: 32C\n",
            "<class 'str'>\n",
            "degree: 32\n",
            "convertion: C\n",
            "Temperaturnya adalah 90 derajat\n"
          ]
        }
      ]
    },
    {
      "cell_type": "code",
      "source": [
        "while True:\n",
        "    msg = input(\"Ketikan karakter: \")\n",
        "    print(msg)\n",
        "    if msg == \"stop\":\n",
        "        break\n"
      ],
      "metadata": {
        "colab": {
          "base_uri": "https://localhost:8080/",
          "height": 397
        },
        "id": "cCUyOfPogfk6",
        "outputId": "8c6febd5-5f5b-4061-face-b390dd340af4"
      },
      "execution_count": null,
      "outputs": [
        {
          "output_type": "error",
          "ename": "KeyboardInterrupt",
          "evalue": "ignored",
          "traceback": [
            "\u001b[0;31m---------------------------------------------------------------------------\u001b[0m",
            "\u001b[0;31mKeyboardInterrupt\u001b[0m                         Traceback (most recent call last)",
            "\u001b[0;32m<ipython-input-35-4ca9b59abdef>\u001b[0m in \u001b[0;36m<module>\u001b[0;34m\u001b[0m\n\u001b[1;32m      1\u001b[0m \u001b[0;32mwhile\u001b[0m \u001b[0;32mTrue\u001b[0m\u001b[0;34m:\u001b[0m\u001b[0;34m\u001b[0m\u001b[0;34m\u001b[0m\u001b[0m\n\u001b[0;32m----> 2\u001b[0;31m     \u001b[0mmsg\u001b[0m \u001b[0;34m=\u001b[0m \u001b[0minput\u001b[0m\u001b[0;34m(\u001b[0m\u001b[0;34m\"Ketikan karakter: \"\u001b[0m\u001b[0;34m)\u001b[0m\u001b[0;34m\u001b[0m\u001b[0;34m\u001b[0m\u001b[0m\n\u001b[0m\u001b[1;32m      3\u001b[0m     \u001b[0mprint\u001b[0m\u001b[0;34m(\u001b[0m\u001b[0mmsg\u001b[0m\u001b[0;34m)\u001b[0m\u001b[0;34m\u001b[0m\u001b[0;34m\u001b[0m\u001b[0m\n\u001b[1;32m      4\u001b[0m     \u001b[0;32mif\u001b[0m \u001b[0mmsg\u001b[0m \u001b[0;34m==\u001b[0m \u001b[0;34m\"stop\"\u001b[0m\u001b[0;34m:\u001b[0m\u001b[0;34m\u001b[0m\u001b[0;34m\u001b[0m\u001b[0m\n\u001b[1;32m      5\u001b[0m         \u001b[0;32mbreak\u001b[0m\u001b[0;34m\u001b[0m\u001b[0;34m\u001b[0m\u001b[0m\n",
            "\u001b[0;32m/usr/local/lib/python3.8/dist-packages/ipykernel/kernelbase.py\u001b[0m in \u001b[0;36mraw_input\u001b[0;34m(self, prompt)\u001b[0m\n\u001b[1;32m    858\u001b[0m                 \u001b[0;34m\"raw_input was called, but this frontend does not support input requests.\"\u001b[0m\u001b[0;34m\u001b[0m\u001b[0;34m\u001b[0m\u001b[0m\n\u001b[1;32m    859\u001b[0m             )\n\u001b[0;32m--> 860\u001b[0;31m         return self._input_request(str(prompt),\n\u001b[0m\u001b[1;32m    861\u001b[0m             \u001b[0mself\u001b[0m\u001b[0;34m.\u001b[0m\u001b[0m_parent_ident\u001b[0m\u001b[0;34m,\u001b[0m\u001b[0;34m\u001b[0m\u001b[0;34m\u001b[0m\u001b[0m\n\u001b[1;32m    862\u001b[0m             \u001b[0mself\u001b[0m\u001b[0;34m.\u001b[0m\u001b[0m_parent_header\u001b[0m\u001b[0;34m,\u001b[0m\u001b[0;34m\u001b[0m\u001b[0;34m\u001b[0m\u001b[0m\n",
            "\u001b[0;32m/usr/local/lib/python3.8/dist-packages/ipykernel/kernelbase.py\u001b[0m in \u001b[0;36m_input_request\u001b[0;34m(self, prompt, ident, parent, password)\u001b[0m\n\u001b[1;32m    902\u001b[0m             \u001b[0;32mexcept\u001b[0m \u001b[0mKeyboardInterrupt\u001b[0m\u001b[0;34m:\u001b[0m\u001b[0;34m\u001b[0m\u001b[0;34m\u001b[0m\u001b[0m\n\u001b[1;32m    903\u001b[0m                 \u001b[0;31m# re-raise KeyboardInterrupt, to truncate traceback\u001b[0m\u001b[0;34m\u001b[0m\u001b[0;34m\u001b[0m\u001b[0;34m\u001b[0m\u001b[0m\n\u001b[0;32m--> 904\u001b[0;31m                 \u001b[0;32mraise\u001b[0m \u001b[0mKeyboardInterrupt\u001b[0m\u001b[0;34m(\u001b[0m\u001b[0;34m\"Interrupted by user\"\u001b[0m\u001b[0;34m)\u001b[0m \u001b[0;32mfrom\u001b[0m \u001b[0;32mNone\u001b[0m\u001b[0;34m\u001b[0m\u001b[0;34m\u001b[0m\u001b[0m\n\u001b[0m\u001b[1;32m    905\u001b[0m             \u001b[0;32mexcept\u001b[0m \u001b[0mException\u001b[0m \u001b[0;32mas\u001b[0m \u001b[0me\u001b[0m\u001b[0;34m:\u001b[0m\u001b[0;34m\u001b[0m\u001b[0;34m\u001b[0m\u001b[0m\n\u001b[1;32m    906\u001b[0m                 \u001b[0mself\u001b[0m\u001b[0;34m.\u001b[0m\u001b[0mlog\u001b[0m\u001b[0;34m.\u001b[0m\u001b[0mwarning\u001b[0m\u001b[0;34m(\u001b[0m\u001b[0;34m\"Invalid Message:\"\u001b[0m\u001b[0;34m,\u001b[0m \u001b[0mexc_info\u001b[0m\u001b[0;34m=\u001b[0m\u001b[0;32mTrue\u001b[0m\u001b[0;34m)\u001b[0m\u001b[0;34m\u001b[0m\u001b[0;34m\u001b[0m\u001b[0m\n",
            "\u001b[0;31mKeyboardInterrupt\u001b[0m: Interrupted by user"
          ]
        }
      ]
    },
    {
      "cell_type": "markdown",
      "source": [
        "**Latihan Tugas Praktik**\n",
        "User ingin membuat sebuah program yang dapat mengeluarkan angka 1 sampai 10. dan tampilan akan mencetak \"Angka ganjil 1\" untuk angka ganjil dan \"Angka genap 2\" untuk angka genap. (Menggunakan looping for)"
      ],
      "metadata": {
        "id": "pvqBHdYrgw0H"
      }
    },
    {
      "cell_type": "markdown",
      "source": [
        "Jawab:\n",
        "Rani Rahel Markus_Tugas sesi2"
      ],
      "metadata": {
        "id": "8zXKWRVJhpHr"
      }
    },
    {
      "cell_type": "code",
      "source": [
        "for i in range (1,11):\n",
        "    if(i%2):\n",
        "        print(i,\"(Angka ganjil)\")\n",
        "    else:\n",
        "         print(i,\"(Angka genap)\")\n"
      ],
      "metadata": {
        "colab": {
          "base_uri": "https://localhost:8080/"
        },
        "id": "yIv6tiSegzRM",
        "outputId": "983f6c33-df4a-437c-ed96-40a65000471f"
      },
      "execution_count": null,
      "outputs": [
        {
          "output_type": "stream",
          "name": "stdout",
          "text": [
            "1 (Angka ganjil)\n",
            "2 (Angka genap)\n",
            "3 (Angka ganjil)\n",
            "4 (Angka genap)\n",
            "5 (Angka ganjil)\n",
            "6 (Angka genap)\n",
            "7 (Angka ganjil)\n",
            "8 (Angka genap)\n",
            "9 (Angka ganjil)\n",
            "10 (Angka genap)\n"
          ]
        }
      ]
    },
    {
      "cell_type": "code",
      "source": [],
      "metadata": {
        "id": "Mi7Ot9MZncx1"
      },
      "execution_count": null,
      "outputs": []
    },
    {
      "cell_type": "code",
      "source": [
        "n = 20\n",
        "for i in range(n):\n",
        "  while i < n:\n",
        "    i += 1\n",
        "    print(i, 'ganjil')\n",
        "    if i % 2 == 0:\n",
        "        continue\n",
        "  else:\n",
        "    print(i, 'genap') \n",
        "\n",
        "# Loop diatas diakhiri sebelum waktunya dengan break, sehingga klausa e"
      ],
      "metadata": {
        "id": "YdUNy9TAndJH"
      },
      "execution_count": null,
      "outputs": []
    },
    {
      "cell_type": "code",
      "source": [
        "print('Masukkan nilai awal dan nilai akhir')\n",
        "\n",
        "nilai_awal = int(input(' nilai awal: '))\n",
        "nilai_akhir = int(input(' nilai akhir: '))\n",
        "\n",
        "print(\"\"\"\\nTampilkan bilangan\n",
        " 1. Ganjil\n",
        " 2. Genap\"\"\")\n",
        "\n",
        "pilihan = int(input('Pilihan: '))\n",
        "\n",
        "# periksa kalau pilihan bukan 1 dan 2\n",
        "if pilihan not in [1, 2]:\n",
        "  print('Pilihan salah')\n",
        "else:\n",
        "  for x in range(nilai_awal, nilai_akhir + 1):\n",
        "    if pilihan == 1 and x % 2 == 1:\n",
        "      print(x, end=' ')\n",
        "    elif pilihan == 2 and x % 2 == 0:\n",
        "      print(x, end=' ')\n",
        "  else:\n",
        "    # ganti baris ketika perulangan selesai\n",
        "    print('')"
      ],
      "metadata": {
        "colab": {
          "base_uri": "https://localhost:8080/"
        },
        "id": "_cg8lZ4Ry6ve",
        "outputId": "995c9bed-8f96-49a3-c924-f89445287a28"
      },
      "execution_count": 12,
      "outputs": [
        {
          "output_type": "stream",
          "name": "stdout",
          "text": [
            "Masukkan nilai awal dan nilai akhir\n",
            " nilai awal: 1\n",
            " nilai akhir: 10\n",
            "\n",
            "Tampilkan bilangan\n",
            " 1. Ganjil\n",
            " 2. Genap\n",
            "Pilihan: 1\n",
            "1 3 5 7 9 \n"
          ]
        }
      ]
    },
    {
      "cell_type": "code",
      "source": [
        "x = int(input('masukkan angka bulat'))\n",
        "if (x % 2 == 0):\n",
        "  print(x,'adalah bilangan genap');\n",
        "else:\n",
        "  print(x,'adalah bilangan ganjil')"
      ],
      "metadata": {
        "colab": {
          "base_uri": "https://localhost:8080/"
        },
        "id": "VqlEgXJ83uhL",
        "outputId": "05d252b1-6b87-4df7-fedb-16294b981396"
      },
      "execution_count": 26,
      "outputs": [
        {
          "output_type": "stream",
          "name": "stdout",
          "text": [
            "masukkan angka bulat10\n",
            "10 adalah bilangan genap\n"
          ]
        }
      ]
    },
    {
      "cell_type": "code",
      "source": [
        "#Dict\n",
        "angka = {'ganjil': [1,3,5,7,9] , 'genap':[2,4,6,8,10]}\n",
        "print(angka['genap'])\n",
        "print(angka['ganjil'])"
      ],
      "metadata": {
        "colab": {
          "base_uri": "https://localhost:8080/"
        },
        "id": "k2cOh1Mc6GFo",
        "outputId": "9b2d6a92-cae7-4af8-a102-5053ddfdd2a1"
      },
      "execution_count": 29,
      "outputs": [
        {
          "output_type": "stream",
          "name": "stdout",
          "text": [
            "[2, 4, 6, 8, 10]\n",
            "[1, 3, 5, 7, 9]\n"
          ]
        }
      ]
    },
    {
      "cell_type": "markdown",
      "source": [
        "**Switch**"
      ],
      "metadata": {
        "id": "NiBFfn2RmVHa"
      }
    },
    {
      "cell_type": "code",
      "source": [
        "def SwitchExample(argument):\n",
        "    switcher = {\n",
        "        0: \" This is Case Zero \",\n",
        "        1: \" This is Case One \",\n",
        "        2: \" This is Case Two \",\n",
        "    }\n",
        "    return switcher.get(argument, \"nothing\")"
      ],
      "metadata": {
        "id": "5RjTvO8CmUKX"
      },
      "execution_count": null,
      "outputs": []
    },
    {
      "cell_type": "code",
      "source": [
        "SwitchExample(1)"
      ],
      "metadata": {
        "colab": {
          "base_uri": "https://localhost:8080/",
          "height": 35
        },
        "id": "6hBYjCXxmZ77",
        "outputId": "ed452fbf-ed07-4dc7-9cea-21f4f8cf9eac"
      },
      "execution_count": null,
      "outputs": [
        {
          "output_type": "execute_result",
          "data": {
            "text/plain": [
              "' This is Case One '"
            ],
            "application/vnd.google.colaboratory.intrinsic+json": {
              "type": "string"
            }
          },
          "metadata": {},
          "execution_count": 54
        }
      ]
    },
    {
      "cell_type": "code",
      "source": [
        "hasil = SwitchExample(2)\n",
        "print(hasil)"
      ],
      "metadata": {
        "colab": {
          "base_uri": "https://localhost:8080/"
        },
        "id": "2BkXyylOmdm7",
        "outputId": "4358567d-75da-42ce-a30f-1eba6bcffb04"
      },
      "execution_count": null,
      "outputs": [
        {
          "output_type": "stream",
          "name": "stdout",
          "text": [
            " This is Case Two \n"
          ]
        }
      ]
    },
    {
      "cell_type": "code",
      "source": [
        "SwitchExample(3)"
      ],
      "metadata": {
        "colab": {
          "base_uri": "https://localhost:8080/",
          "height": 35
        },
        "id": "CyZ09LIUmfOf",
        "outputId": "b2a5a7c9-4533-4723-e82f-57c771cc8f3b"
      },
      "execution_count": null,
      "outputs": [
        {
          "output_type": "execute_result",
          "data": {
            "text/plain": [
              "'nothing'"
            ],
            "application/vnd.google.colaboratory.intrinsic+json": {
              "type": "string"
            }
          },
          "metadata": {},
          "execution_count": 56
        }
      ]
    },
    {
      "cell_type": "code",
      "source": [
        "for i in range(1,6):\n",
        "    for j in range(i):\n",
        "        print(\"*\",end=' ')\n",
        "    print()"
      ],
      "metadata": {
        "colab": {
          "base_uri": "https://localhost:8080/"
        },
        "id": "mL34IVkVmhmy",
        "outputId": "05607e65-d82f-41a6-d5b2-dd7a4d8b7165"
      },
      "execution_count": null,
      "outputs": [
        {
          "output_type": "stream",
          "name": "stdout",
          "text": [
            "* \n",
            "* * \n",
            "* * * \n",
            "* * * * \n",
            "* * * * * \n"
          ]
        }
      ]
    },
    {
      "cell_type": "code",
      "source": [
        "i=6\n",
        "while(i>0):\n",
        "    j=6\n",
        "    while(j>i):\n",
        "        print(\"*\",end=' ')\n",
        "        j-=1\n",
        "    i-=1\n",
        "    print()"
      ],
      "metadata": {
        "colab": {
          "base_uri": "https://localhost:8080/"
        },
        "id": "uyW8IlHgmk2K",
        "outputId": "b76f738a-e73f-4a2a-a425-e6176cf9301a"
      },
      "execution_count": null,
      "outputs": [
        {
          "output_type": "stream",
          "name": "stdout",
          "text": [
            "\n",
            "* \n",
            "* * \n",
            "* * * \n",
            "* * * * \n",
            "* * * * * \n"
          ]
        }
      ]
    }
  ]
}