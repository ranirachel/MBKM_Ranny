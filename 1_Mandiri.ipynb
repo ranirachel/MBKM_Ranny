{
  "nbformat": 4,
  "nbformat_minor": 0,
  "metadata": {
    "colab": {
      "provenance": [],
      "authorship_tag": "ABX9TyMce7xHQVLqNeGLwwRB966t",
      "include_colab_link": true
    },
    "kernelspec": {
      "name": "python3",
      "display_name": "Python 3"
    },
    "language_info": {
      "name": "python"
    }
  },
  "cells": [
    {
      "cell_type": "markdown",
      "metadata": {
        "id": "view-in-github",
        "colab_type": "text"
      },
      "source": [
        "<a href=\"https://colab.research.google.com/github/ranirachel/MBKM_Ranny/blob/main/1_Mandiri.ipynb\" target=\"_parent\"><img src=\"https://colab.research.google.com/assets/colab-badge.svg\" alt=\"Open In Colab\"/></a>"
      ]
    },
    {
      "cell_type": "code",
      "execution_count": null,
      "metadata": {
        "colab": {
          "base_uri": "https://localhost:8080/"
        },
        "id": "5OQs5DTrAHYf",
        "outputId": "79abcc65-9f24-4147-ba57-c8c701c7cf04"
      },
      "outputs": [
        {
          "output_type": "stream",
          "name": "stdout",
          "text": [
            "123123123123123123123123123123123123123123123124\n"
          ]
        }
      ],
      "source": [
        "print(123123123123123123123123123123123123123123123123 + 1) "
      ]
    },
    {
      "cell_type": "code",
      "source": [
        "ival = 123123123123123123123123123123123123123123123123 + 1"
      ],
      "metadata": {
        "id": "sR_nNlcNJxWu"
      },
      "execution_count": null,
      "outputs": []
    },
    {
      "cell_type": "code",
      "source": [
        "varabcde = 10 "
      ],
      "metadata": {
        "id": "gYGErd0wJzDy"
      },
      "execution_count": null,
      "outputs": []
    },
    {
      "cell_type": "code",
      "source": [
        "\n",
        "print(varabcde)"
      ],
      "metadata": {
        "colab": {
          "base_uri": "https://localhost:8080/"
        },
        "id": "mZvnI1fHJ2ne",
        "outputId": "e4b2fea2-638a-4a52-8140-9dd43b4b2981"
      },
      "execution_count": null,
      "outputs": [
        {
          "output_type": "stream",
          "name": "stdout",
          "text": [
            "10\n"
          ]
        }
      ]
    },
    {
      "cell_type": "code",
      "source": [
        "print (ival)"
      ],
      "metadata": {
        "colab": {
          "base_uri": "https://localhost:8080/"
        },
        "id": "Uo9mtzUvJ5Al",
        "outputId": "df765d28-063c-4366-b6b4-3ec86e160066"
      },
      "execution_count": null,
      "outputs": [
        {
          "output_type": "stream",
          "name": "stdout",
          "text": [
            "123123123123123123123123123123123123123123123124\n"
          ]
        }
      ]
    },
    {
      "cell_type": "code",
      "source": [
        "type (ival)"
      ],
      "metadata": {
        "colab": {
          "base_uri": "https://localhost:8080/"
        },
        "id": "zU9itmeqJ-j1",
        "outputId": "921a3bdf-5cb3-4248-fb49-9ca233ee3f83"
      },
      "execution_count": null,
      "outputs": [
        {
          "output_type": "execute_result",
          "data": {
            "text/plain": [
              "int"
            ]
          },
          "metadata": {},
          "execution_count": 6
        }
      ]
    },
    {
      "cell_type": "code",
      "source": [
        "print(4.2)\n",
        "\n",
        "print(type(4.2))\n",
        "\n",
        "print(4.)\n",
        "\n",
        "print(.2)\n",
        "\n",
        "print(.4e7)\n",
        "\n",
        "print(4.2e-4)"
      ],
      "metadata": {
        "colab": {
          "base_uri": "https://localhost:8080/"
        },
        "id": "tvMjS3uJKCQu",
        "outputId": "cab62c8d-a8c3-4f09-d103-3ebfcf269167"
      },
      "execution_count": null,
      "outputs": [
        {
          "output_type": "stream",
          "name": "stdout",
          "text": [
            "4.2\n",
            "<class 'float'>\n",
            "4.0\n",
            "0.2\n",
            "4000000.0\n",
            "0.00042\n"
          ]
        }
      ]
    },
    {
      "cell_type": "code",
      "source": [
        "\n",
        "print(\"Hacktiv8\")\n",
        "print(type(\"Hacktiv8\"))"
      ],
      "metadata": {
        "colab": {
          "base_uri": "https://localhost:8080/"
        },
        "id": "rNh8HqgPKEig",
        "outputId": "955df9fb-08ad-459d-e2da-b4031545c021"
      },
      "execution_count": null,
      "outputs": [
        {
          "output_type": "stream",
          "name": "stdout",
          "text": [
            "Hacktiv8\n",
            "<class 'str'>\n"
          ]
        }
      ]
    },
    {
      "cell_type": "code",
      "source": [
        "\n",
        "print('') ## string bisa kosong "
      ],
      "metadata": {
        "colab": {
          "base_uri": "https://localhost:8080/"
        },
        "id": "mU9YpooCKGnj",
        "outputId": "26e18b7a-6784-42e6-eb7b-3a2f3cb3470c"
      },
      "execution_count": null,
      "outputs": [
        {
          "output_type": "stream",
          "name": "stdout",
          "text": [
            "\n"
          ]
        }
      ]
    },
    {
      "cell_type": "code",
      "source": [
        "print(\"This string contains a single quote (') character.\")\n",
        "\n",
        "print('This string contains a double quote (\") character.')\n",
        "\n",
        "print('This string contains a double quote (\\') character.')\n",
        "\n",
        "print(\"This string contains a single quote (\\\") character.\")"
      ],
      "metadata": {
        "colab": {
          "base_uri": "https://localhost:8080/"
        },
        "id": "pZJNtEu3KIpf",
        "outputId": "abe3f528-bb0b-4365-f094-689de5ad2685"
      },
      "execution_count": null,
      "outputs": [
        {
          "output_type": "stream",
          "name": "stdout",
          "text": [
            "This string contains a single quote (') character.\n",
            "This string contains a double quote (\") character.\n",
            "This string contains a double quote (') character.\n",
            "This string contains a single quote (\") character.\n"
          ]
        }
      ]
    },
    {
      "cell_type": "code",
      "source": [
        "print(type(True))\n",
        "\n",
        "print(type(False))"
      ],
      "metadata": {
        "colab": {
          "base_uri": "https://localhost:8080/"
        },
        "id": "vzdbjfvrKK9O",
        "outputId": "d255a533-f7c5-4f00-bf94-46ad02f6d4d4"
      },
      "execution_count": null,
      "outputs": [
        {
          "output_type": "stream",
          "name": "stdout",
          "text": [
            "<class 'bool'>\n",
            "<class 'bool'>\n"
          ]
        }
      ]
    },
    {
      "cell_type": "code",
      "source": [
        "n = 100\n",
        "print (n)"
      ],
      "metadata": {
        "colab": {
          "base_uri": "https://localhost:8080/"
        },
        "id": "NTy9SZWsKO68",
        "outputId": "1b2cefac-28e2-4284-82b0-3875ddfc1649"
      },
      "execution_count": null,
      "outputs": [
        {
          "output_type": "stream",
          "name": "stdout",
          "text": [
            "100\n"
          ]
        }
      ]
    },
    {
      "cell_type": "code",
      "source": [
        "n"
      ],
      "metadata": {
        "colab": {
          "base_uri": "https://localhost:8080/"
        },
        "id": "rNgZhjb7KSDJ",
        "outputId": "9a492f42-5ec9-49a6-8359-42d7437e9d28"
      },
      "execution_count": null,
      "outputs": [
        {
          "output_type": "execute_result",
          "data": {
            "text/plain": [
              "100"
            ]
          },
          "metadata": {},
          "execution_count": 13
        }
      ]
    },
    {
      "cell_type": "code",
      "source": [
        "n = 200"
      ],
      "metadata": {
        "id": "joEDOqJrKTZY"
      },
      "execution_count": null,
      "outputs": []
    },
    {
      "cell_type": "code",
      "source": [
        "print (n)"
      ],
      "metadata": {
        "colab": {
          "base_uri": "https://localhost:8080/"
        },
        "id": "M6hEmOyWKVM7",
        "outputId": "39d7d625-f27b-46e5-eecc-194d175f510e"
      },
      "execution_count": null,
      "outputs": [
        {
          "output_type": "stream",
          "name": "stdout",
          "text": [
            "200\n"
          ]
        }
      ]
    },
    {
      "cell_type": "code",
      "source": [
        " x = y = z = 1000\n",
        " print (x,y,z)"
      ],
      "metadata": {
        "colab": {
          "base_uri": "https://localhost:8080/"
        },
        "id": "krAWNOvRKaJg",
        "outputId": "dd6afedc-376d-4fff-8fa5-5128a69ef9a7"
      },
      "execution_count": null,
      "outputs": [
        {
          "output_type": "stream",
          "name": "stdout",
          "text": [
            "1000 1000 1000\n"
          ]
        }
      ]
    },
    {
      "cell_type": "markdown",
      "source": [
        "Variable Types in Python"
      ],
      "metadata": {
        "id": "y46W7mpXKsBl"
      }
    },
    {
      "cell_type": "code",
      "source": [
        "varx = 25.5 \n",
        "print(varx)\n",
        "print(type(varx)) "
      ],
      "metadata": {
        "colab": {
          "base_uri": "https://localhost:8080/"
        },
        "id": "PhQ3gXKeKj9c",
        "outputId": "a8239e02-d03d-4551-9bb8-4ab4a6689ba2"
      },
      "execution_count": null,
      "outputs": [
        {
          "output_type": "stream",
          "name": "stdout",
          "text": [
            "25.5\n",
            "<class 'float'>\n"
          ]
        }
      ]
    },
    {
      "cell_type": "code",
      "source": [
        "varx = \"Halo Apa Kabar\"\n",
        "print(varx) \n",
        "print(type(varx)) "
      ],
      "metadata": {
        "colab": {
          "base_uri": "https://localhost:8080/"
        },
        "id": "VmFYrJEsKltk",
        "outputId": "4be611ac-ad80-4bf6-ac04-b4cf288f5eca"
      },
      "execution_count": null,
      "outputs": [
        {
          "output_type": "stream",
          "name": "stdout",
          "text": [
            "Halo Apa Kabar\n",
            "<class 'str'>\n"
          ]
        }
      ]
    },
    {
      "cell_type": "markdown",
      "source": [
        "**Variable Names**\n",
        "Secara resmi, nama variabel di Python bisa berapa pun panjangnya dan bisa terdiri dari huruf besar dan huruf \n",
        "  kecil (A-Z, a-z), digit (0-9), dan karakter garis bawah (_). \n",
        "  Batasan tambahan adalah bahwa, meskipun nama  variabel dapat berisi angka, \n",
        "  karakter pertama dari nama variabel tidak boleh berupa digit."
      ],
      "metadata": {
        "id": "ZCPAguZvKwzS"
      }
    },
    {
      "cell_type": "code",
      "source": [
        "_ = \"kosong\" \n",
        "print(_)"
      ],
      "metadata": {
        "colab": {
          "base_uri": "https://localhost:8080/"
        },
        "id": "DrJnZpfEKyrv",
        "outputId": "74a8223e-cdc5-4b2a-c9e7-9406eca4661c"
      },
      "execution_count": null,
      "outputs": [
        {
          "output_type": "stream",
          "name": "stdout",
          "text": [
            "kosong\n"
          ]
        }
      ]
    },
    {
      "cell_type": "code",
      "source": [
        "_1 = \"satu\" \n",
        "print(_1) "
      ],
      "metadata": {
        "colab": {
          "base_uri": "https://localhost:8080/"
        },
        "id": "SstBVx7nK4DZ",
        "outputId": "2aff278a-c6a0-4740-a7d1-7d8a16ccd167"
      },
      "execution_count": null,
      "outputs": [
        {
          "output_type": "stream",
          "name": "stdout",
          "text": [
            "satu\n"
          ]
        }
      ]
    },
    {
      "cell_type": "code",
      "source": [
        "name = \"Hacktiv8\"\n",
        "Age = 54\n",
        "has_laptops = True\n",
        "print(name, Age, has_laptops)"
      ],
      "metadata": {
        "colab": {
          "base_uri": "https://localhost:8080/"
        },
        "id": "wpAD4rl-LBSc",
        "outputId": "ca42713b-cefe-4a2d-8b39-11b42a75180f"
      },
      "execution_count": null,
      "outputs": [
        {
          "output_type": "stream",
          "name": "stdout",
          "text": [
            "Hacktiv8 54 True\n"
          ]
        }
      ]
    },
    {
      "cell_type": "code",
      "source": [
        "9_kepala_naga = \"kepala\""
      ],
      "metadata": {
        "colab": {
          "base_uri": "https://localhost:8080/",
          "height": 130
        },
        "id": "THpxG6aHLDKT",
        "outputId": "89c19b2d-6463-4b36-a0b8-95ca5c142d61"
      },
      "execution_count": null,
      "outputs": [
        {
          "output_type": "error",
          "ename": "SyntaxError",
          "evalue": "ignored",
          "traceback": [
            "\u001b[0;36m  File \u001b[0;32m\"<ipython-input-22-421d96b11aa0>\"\u001b[0;36m, line \u001b[0;32m1\u001b[0m\n\u001b[0;31m    9_kepala_naga = \"kepala\"\u001b[0m\n\u001b[0m     ^\u001b[0m\n\u001b[0;31mSyntaxError\u001b[0m\u001b[0;31m:\u001b[0m invalid decimal literal\n"
          ]
        }
      ]
    },
    {
      "cell_type": "code",
      "source": [
        "age = 1\n",
        "Age = 2\n",
        "aGe = 3\n",
        "AGE = 4\n",
        "a_g_e = 5\n",
        "_age = 6\n",
        "age_ = 7\n",
        "_AGE_ = 8\n",
        "\n",
        "print(age, Age, aGe, AGE, a_g_e, _age, age_, _AGE_)"
      ],
      "metadata": {
        "colab": {
          "base_uri": "https://localhost:8080/"
        },
        "id": "-ySHKi6dLGCF",
        "outputId": "1acf028a-9035-482d-c85d-d24b1be15a6a"
      },
      "execution_count": null,
      "outputs": [
        {
          "output_type": "stream",
          "name": "stdout",
          "text": [
            "1 2 3 4 5 6 7 8\n"
          ]
        }
      ]
    },
    {
      "cell_type": "code",
      "source": [
        "amountSaldo = 500000 \n",
        "print(amountSaldo)\n",
        "\n",
        "AmountSaldo = 10000 \n",
        "print(AmountSaldo)\n",
        "\n",
        "amount_saldo = 1000\n",
        "print(amount_saldo)"
      ],
      "metadata": {
        "colab": {
          "base_uri": "https://localhost:8080/"
        },
        "id": "yKJ3lT_MLI32",
        "outputId": "2df9cbe5-ac2c-4d71-eef6-6451d0fcb81b"
      },
      "execution_count": null,
      "outputs": [
        {
          "output_type": "stream",
          "name": "stdout",
          "text": [
            "500000\n",
            "10000\n",
            "1000\n"
          ]
        }
      ]
    },
    {
      "cell_type": "code",
      "source": [
        "a = 10\n",
        "b = 20\n",
        "a + b\n",
        "print(a+b)"
      ],
      "metadata": {
        "id": "s9OBSffjLKxD",
        "outputId": "c103fa2d-d281-4fc7-fe10-94d0636a9607",
        "colab": {
          "base_uri": "https://localhost:8080/"
        }
      },
      "execution_count": null,
      "outputs": [
        {
          "output_type": "stream",
          "name": "stdout",
          "text": [
            "30\n"
          ]
        }
      ]
    }
  ]
}