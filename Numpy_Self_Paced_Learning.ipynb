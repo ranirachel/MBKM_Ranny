{
  "nbformat": 4,
  "nbformat_minor": 0,
  "metadata": {
    "colab": {
      "provenance": [],
      "authorship_tag": "ABX9TyP4ztlFMgg+Zgqcsbd0f9nQ",
      "include_colab_link": true
    },
    "kernelspec": {
      "name": "python3",
      "display_name": "Python 3"
    },
    "language_info": {
      "name": "python"
    }
  },
  "cells": [
    {
      "cell_type": "markdown",
      "metadata": {
        "id": "view-in-github",
        "colab_type": "text"
      },
      "source": [
        "<a href=\"https://colab.research.google.com/github/ranirachel/MBKM_Ranny/blob/main/Numpy_Self_Paced_Learning.ipynb\" target=\"_parent\"><img src=\"https://colab.research.google.com/assets/colab-badge.svg\" alt=\"Open In Colab\"/></a>"
      ]
    },
    {
      "cell_type": "code",
      "execution_count": 3,
      "metadata": {
        "id": "FSIxwg-nGzwz"
      },
      "outputs": [],
      "source": [
        "import numpy as np"
      ]
    },
    {
      "cell_type": "code",
      "source": [
        "gpas_as_list = [4.0, 3.2, 3.5]\n"
      ],
      "metadata": {
        "id": "b5gZFIKoHCcJ"
      },
      "execution_count": 4,
      "outputs": []
    },
    {
      "cell_type": "code",
      "source": [
        "gpas_as_list.append(4.0)\n",
        "gpas_as_list"
      ],
      "metadata": {
        "colab": {
          "base_uri": "https://localhost:8080/"
        },
        "id": "ud_US8ogHK0-",
        "outputId": "a8179cf1-a864-44ca-c1ff-20ffdeff1e98"
      },
      "execution_count": 5,
      "outputs": [
        {
          "output_type": "execute_result",
          "data": {
            "text/plain": [
              "[4.0, 3.2, 3.5, 4.0]"
            ]
          },
          "metadata": {},
          "execution_count": 5
        }
      ]
    },
    {
      "cell_type": "code",
      "source": [
        "gpas_as_list.insert(1, 'belum ada')\n",
        "gpas_as_list"
      ],
      "metadata": {
        "colab": {
          "base_uri": "https://localhost:8080/"
        },
        "id": "MLfslgSGHWLX",
        "outputId": "bf783df1-b398-4622-bcd1-30f630ec1858"
      },
      "execution_count": 6,
      "outputs": [
        {
          "output_type": "execute_result",
          "data": {
            "text/plain": [
              "[4.0, 'belum ada', 3.2, 3.5, 4.0]"
            ]
          },
          "metadata": {},
          "execution_count": 6
        }
      ]
    },
    {
      "cell_type": "code",
      "source": [
        "gpas_as_list.pop(1)\n",
        "gpas_as_list"
      ],
      "metadata": {
        "colab": {
          "base_uri": "https://localhost:8080/"
        },
        "id": "MBydqtkdHg4f",
        "outputId": "f126ef31-baf1-4d6a-d707-e1e25d2cb80b"
      },
      "execution_count": 13,
      "outputs": [
        {
          "output_type": "execute_result",
          "data": {
            "text/plain": [
              "[4.0, 3.5, 4.0]"
            ]
          },
          "metadata": {},
          "execution_count": 13
        }
      ]
    },
    {
      "cell_type": "markdown",
      "source": [
        "  **Numpy Array**"
      ],
      "metadata": {
        "id": "x027cBQlHygq"
      }
    },
    {
      "cell_type": "code",
      "source": [
        "gpas = np.array(gpas_as_list)"
      ],
      "metadata": {
        "id": "-4Zh46SQHw4o"
      },
      "execution_count": 14,
      "outputs": []
    },
    {
      "cell_type": "code",
      "source": [
        "gpas.dtype"
      ],
      "metadata": {
        "colab": {
          "base_uri": "https://localhost:8080/"
        },
        "id": "OtiB214aH_wB",
        "outputId": "8ce0720e-0c7d-47e3-a081-647bbf00501b"
      },
      "execution_count": 15,
      "outputs": [
        {
          "output_type": "execute_result",
          "data": {
            "text/plain": [
              "dtype('float64')"
            ]
          },
          "metadata": {},
          "execution_count": 15
        }
      ]
    },
    {
      "cell_type": "code",
      "source": [
        "gpas.size"
      ],
      "metadata": {
        "colab": {
          "base_uri": "https://localhost:8080/"
        },
        "id": "bWLs6qBJIGG8",
        "outputId": "99c9e2af-1b69-41ce-a82a-ab28df44ae51"
      },
      "execution_count": 16,
      "outputs": [
        {
          "output_type": "execute_result",
          "data": {
            "text/plain": [
              "3"
            ]
          },
          "metadata": {},
          "execution_count": 16
        }
      ]
    },
    {
      "cell_type": "markdown",
      "source": [
        "APLIKASI SEDERHANA STUDI LOG"
      ],
      "metadata": {
        "id": "zmHQ9whFIjPu"
      }
    },
    {
      "cell_type": "code",
      "source": [
        "# study_minutes = np.zeros(100)\n",
        "# study_minutes"
      ],
      "metadata": {
        "id": "ui0DyZORInOt"
      },
      "execution_count": 117,
      "outputs": []
    },
    {
      "cell_type": "code",
      "source": [
        "# %whos"
      ],
      "metadata": {
        "id": "_VX-78EwI0lT"
      },
      "execution_count": 118,
      "outputs": []
    },
    {
      "cell_type": "code",
      "source": [
        "#study_minutes = np.zeros(100)  #Akan didefinisikan dengan arraynya, liat line berikutnya\n",
        "study_minutes = np.zeros(100, np.uint16)\n",
        "study_minutes"
      ],
      "metadata": {
        "colab": {
          "base_uri": "https://localhost:8080/"
        },
        "id": "VhU0-dDUI88f",
        "outputId": "54058e84-9f66-458a-d30f-cdae04e17bcc"
      },
      "execution_count": 122,
      "outputs": [
        {
          "output_type": "execute_result",
          "data": {
            "text/plain": [
              "array([0, 0, 0, 0, 0, 0, 0, 0, 0, 0, 0, 0, 0, 0, 0, 0, 0, 0, 0, 0, 0, 0,\n",
              "       0, 0, 0, 0, 0, 0, 0, 0, 0, 0, 0, 0, 0, 0, 0, 0, 0, 0, 0, 0, 0, 0,\n",
              "       0, 0, 0, 0, 0, 0, 0, 0, 0, 0, 0, 0, 0, 0, 0, 0, 0, 0, 0, 0, 0, 0,\n",
              "       0, 0, 0, 0, 0, 0, 0, 0, 0, 0, 0, 0, 0, 0, 0, 0, 0, 0, 0, 0, 0, 0,\n",
              "       0, 0, 0, 0, 0, 0, 0, 0, 0, 0, 0, 0], dtype=uint16)"
            ]
          },
          "metadata": {},
          "execution_count": 122
        }
      ]
    },
    {
      "cell_type": "code",
      "source": [
        "%whos\n",
        "#Terlihat dari 800 bytes menjadi 200 bytes"
      ],
      "metadata": {
        "colab": {
          "base_uri": "https://localhost:8080/"
        },
        "id": "6tqKjj95JkqG",
        "outputId": "74473702-8a2a-4a3f-d1b6-fc2299d84eca"
      },
      "execution_count": 123,
      "outputs": [
        {
          "output_type": "stream",
          "name": "stdout",
          "text": [
            "Variable             Type           Data/Info\n",
            "---------------------------------------------\n",
            "a                    ndarray        5: 5 elems, type `int64`, 40 bytes\n",
            "b                    ndarray        5: 5 elems, type `int64`, 40 bytes\n",
            "fake_log             ndarray        100: 100 elems, type `uint16`, 200 bytes\n",
            "gpas                 ndarray        3: 3 elems, type `float64`, 24 bytes\n",
            "gpas_as_list         list           n=3\n",
            "index                ndarray        2x2: 4 elems, type `int64`, 32 bytes\n",
            "not_copied           ndarray        7x6: 42 elems, type `int64`, 336 bytes\n",
            "np                   module         <module 'numpy' from '/us<...>kages/numpy/__init__.py'>\n",
            "orders               ndarray        4x4: 16 elems, type `int64`, 128 bytes\n",
            "practice             ndarray        7x6: 42 elems, type `int64`, 336 bytes\n",
            "practice_list        list           n=3\n",
            "practice_list_copy   list           n=3\n",
            "prices               ndarray        4: 4 elems, type `float64`, 32 bytes\n",
            "rand                 RandomState    RandomState(MT19937)\n",
            "students_gpas        ndarray        3x4: 12 elems, type `float16`, 24 bytes\n",
            "study_minutes        ndarray        100: 100 elems, type `uint16`, 200 bytes\n",
            "totals               ndarray        4: 4 elems, type `int64`, 32 bytes\n",
            "x1                   ndarray        3x3: 9 elems, type `float64`, 72 bytes\n",
            "x2                   ndarray        3: 3 elems, type `float64`, 24 bytes\n"
          ]
        }
      ]
    },
    {
      "cell_type": "markdown",
      "source": [
        "**Array Multidimensi**"
      ],
      "metadata": {
        "id": "60vAuFA1LR95"
      }
    },
    {
      "cell_type": "code",
      "source": [
        "students_gpas = np.array([\n",
        "    [4.0, 3.3, 3.5, 4.0],\n",
        "    [3.96, 3.92, 4.0, 4.0],\n",
        "    [3.2, 3.8, 4.0, 4.0]\n",
        "], np.float16) #indeks presatasi menggunakan data float yaitu perkomaan misal 4.0, 3.2 dll\n",
        "students_gpas"
      ],
      "metadata": {
        "colab": {
          "base_uri": "https://localhost:8080/"
        },
        "id": "31aRAZfuLGtg",
        "outputId": "aa10f78f-c986-4496-9a45-1f1e5f61fdf2"
      },
      "execution_count": 128,
      "outputs": [
        {
          "output_type": "execute_result",
          "data": {
            "text/plain": [
              "array([[4.  , 3.3 , 3.5 , 4.  ],\n",
              "       [3.96, 3.92, 4.  , 4.  ],\n",
              "       [3.2 , 3.8 , 4.  , 4.  ]], dtype=float16)"
            ]
          },
          "metadata": {},
          "execution_count": 128
        }
      ]
    },
    {
      "cell_type": "code",
      "source": [
        "students_gpas.ndim #n.dim adalah number of dimension untuk melihat jumlah dimensi"
      ],
      "metadata": {
        "colab": {
          "base_uri": "https://localhost:8080/"
        },
        "id": "XNsQQgetM_0r",
        "outputId": "a076028b-1221-4041-a106-44bca4f5fbeb"
      },
      "execution_count": 129,
      "outputs": [
        {
          "output_type": "execute_result",
          "data": {
            "text/plain": [
              "2"
            ]
          },
          "metadata": {},
          "execution_count": 129
        }
      ]
    },
    {
      "cell_type": "code",
      "source": [
        "#shape , artinya 3 array untuk student, masing\" student memiliki 4 elemen nilai gpa terlihat pada output\n",
        "students_gpas.shape"
      ],
      "metadata": {
        "colab": {
          "base_uri": "https://localhost:8080/"
        },
        "id": "sBqoBbRbNJEa",
        "outputId": "f1c033ae-aab3-405b-a23c-f77ea7d6a74c"
      },
      "execution_count": 130,
      "outputs": [
        {
          "output_type": "execute_result",
          "data": {
            "text/plain": [
              "(3, 4)"
            ]
          },
          "metadata": {},
          "execution_count": 130
        }
      ]
    },
    {
      "cell_type": "code",
      "source": [
        "students_gpas[2]\n",
        "#untuk medapatkan shape ke2 pada data array\n",
        "students_gpas[2][3]\n",
        "#untuk mendapatkan shape ke2, dan tahun ke4"
      ],
      "metadata": {
        "colab": {
          "base_uri": "https://localhost:8080/"
        },
        "id": "MTGOLHEmNYWG",
        "outputId": "56cb31d0-fec4-4ba2-ce25-cfcfb80b147f"
      },
      "execution_count": 131,
      "outputs": [
        {
          "output_type": "execute_result",
          "data": {
            "text/plain": [
              "4.0"
            ]
          },
          "metadata": {},
          "execution_count": 131
        }
      ]
    },
    {
      "cell_type": "markdown",
      "source": [
        "**ARRAY INDEXING**\n",
        "membuat studi log multidimensi"
      ],
      "metadata": {
        "id": "17sB3g4fNx55"
      }
    },
    {
      "cell_type": "code",
      "source": [
        "#menggunakan cara studi log\n",
        "study_minutes "
      ],
      "metadata": {
        "colab": {
          "base_uri": "https://localhost:8080/"
        },
        "id": "___muT9SN1iS",
        "outputId": "43dc5e7d-0e8d-4519-b3e7-0b13eb08714d"
      },
      "execution_count": 132,
      "outputs": [
        {
          "output_type": "execute_result",
          "data": {
            "text/plain": [
              "array([0, 0, 0, 0, 0, 0, 0, 0, 0, 0, 0, 0, 0, 0, 0, 0, 0, 0, 0, 0, 0, 0,\n",
              "       0, 0, 0, 0, 0, 0, 0, 0, 0, 0, 0, 0, 0, 0, 0, 0, 0, 0, 0, 0, 0, 0,\n",
              "       0, 0, 0, 0, 0, 0, 0, 0, 0, 0, 0, 0, 0, 0, 0, 0, 0, 0, 0, 0, 0, 0,\n",
              "       0, 0, 0, 0, 0, 0, 0, 0, 0, 0, 0, 0, 0, 0, 0, 0, 0, 0, 0, 0, 0, 0,\n",
              "       0, 0, 0, 0, 0, 0, 0, 0, 0, 0, 0, 0], dtype=uint16)"
            ]
          },
          "metadata": {},
          "execution_count": 132
        }
      ]
    },
    {
      "cell_type": "code",
      "source": [
        "#konvert 1 dimensi ke 2 dimensi\n",
        "study_minutes = np.array([\n",
        "    study_minutes, np.zeros(100, np.uint16) \n",
        "])\n",
        "study_minutes.shape"
      ],
      "metadata": {
        "colab": {
          "base_uri": "https://localhost:8080/"
        },
        "id": "ZOykJT0fOTFa",
        "outputId": "a1c45193-9624-49f5-f993-73757746c2db"
      },
      "execution_count": 133,
      "outputs": [
        {
          "output_type": "execute_result",
          "data": {
            "text/plain": [
              "(2, 100)"
            ]
          },
          "metadata": {},
          "execution_count": 133
        }
      ]
    },
    {
      "cell_type": "code",
      "source": [
        "study_minutes[1][0] = 60\n",
        "study_minutes"
      ],
      "metadata": {
        "colab": {
          "base_uri": "https://localhost:8080/"
        },
        "id": "2EK3QdLIOuVc",
        "outputId": "17c83895-d90b-41e9-f9d6-57c242631207"
      },
      "execution_count": 135,
      "outputs": [
        {
          "output_type": "execute_result",
          "data": {
            "text/plain": [
              "array([[ 0, 60,  0,  0,  0,  0,  0,  0,  0,  0,  0,  0,  0,  0,  0,  0,\n",
              "         0,  0,  0,  0,  0,  0,  0,  0,  0,  0,  0,  0,  0,  0,  0,  0,\n",
              "         0,  0,  0,  0,  0,  0,  0,  0,  0,  0,  0,  0,  0,  0,  0,  0,\n",
              "         0,  0,  0,  0,  0,  0,  0,  0,  0,  0,  0,  0,  0,  0,  0,  0,\n",
              "         0,  0,  0,  0,  0,  0,  0,  0,  0,  0,  0,  0,  0,  0,  0,  0,\n",
              "         0,  0,  0,  0,  0,  0,  0,  0,  0,  0,  0,  0,  0,  0,  0,  0,\n",
              "         0,  0,  0,  0],\n",
              "       [60,  0,  0,  0,  0,  0,  0,  0,  0,  0,  0,  0,  0,  0,  0,  0,\n",
              "         0,  0,  0,  0,  0,  0,  0,  0,  0,  0,  0,  0,  0,  0,  0,  0,\n",
              "         0,  0,  0,  0,  0,  0,  0,  0,  0,  0,  0,  0,  0,  0,  0,  0,\n",
              "         0,  0,  0,  0,  0,  0,  0,  0,  0,  0,  0,  0,  0,  0,  0,  0,\n",
              "         0,  0,  0,  0,  0,  0,  0,  0,  0,  0,  0,  0,  0,  0,  0,  0,\n",
              "         0,  0,  0,  0,  0,  0,  0,  0,  0,  0,  0,  0,  0,  0,  0,  0,\n",
              "         0,  0,  0,  0]], dtype=uint16)"
            ]
          },
          "metadata": {},
          "execution_count": 135
        }
      ]
    },
    {
      "cell_type": "code",
      "source": [
        "rand = np.random.RandomState(42) #random number\n",
        "fake_log = rand.randint(30, 180, size=100, dtype=np.uint16) #nilai min 30, max 180\n",
        "fake_log"
      ],
      "metadata": {
        "colab": {
          "base_uri": "https://localhost:8080/"
        },
        "id": "UFC3cts0O-dS",
        "outputId": "7cbcccfb-7832-4e8c-da24-a779c1ce2821"
      },
      "execution_count": 136,
      "outputs": [
        {
          "output_type": "execute_result",
          "data": {
            "text/plain": [
              "array([132, 122, 128,  44, 136, 129, 101,  95,  50, 132, 151,  64, 104,\n",
              "       175, 117, 146, 139, 129, 133, 176,  98, 160, 179,  99,  82, 142,\n",
              "        31, 106, 117,  56,  98,  67, 121, 159,  81, 170,  31,  50,  49,\n",
              "        87, 179,  51, 116, 177, 118,  78, 171, 117,  88, 123, 102,  44,\n",
              "        79,  31, 108,  80,  59, 137,  84,  93, 155, 160,  67,  80, 166,\n",
              "       164,  70,  50, 102, 113,  47, 131, 161, 118,  82,  89,  81,  43,\n",
              "        81,  38, 119,  52,  82,  31, 159,  57, 113,  71, 121, 140,  91,\n",
              "        70,  37, 106,  64, 127, 110,  58,  93,  79], dtype=uint16)"
            ]
          },
          "metadata": {},
          "execution_count": 136
        }
      ]
    },
    {
      "cell_type": "code",
      "source": [
        "#ingin menit yang hampir mencapai 1 menit, cari dari array data ke berapa itu dan diinput\n",
        "[fake_log[29], fake_log[3]] #list"
      ],
      "metadata": {
        "colab": {
          "base_uri": "https://localhost:8080/"
        },
        "id": "xa3f-nWIPcX5",
        "outputId": "778dfa79-5419-40e6-b37b-5679ff00408f"
      },
      "execution_count": 137,
      "outputs": [
        {
          "output_type": "execute_result",
          "data": {
            "text/plain": [
              "[56, 44]"
            ]
          },
          "metadata": {},
          "execution_count": 137
        }
      ]
    },
    {
      "cell_type": "code",
      "source": [
        "fake_log[[3, 29]] #array"
      ],
      "metadata": {
        "colab": {
          "base_uri": "https://localhost:8080/"
        },
        "id": "rXCqxvBFQLqe",
        "outputId": "e7aabe7b-2aff-4607-9f22-414a589ed59a"
      },
      "execution_count": 138,
      "outputs": [
        {
          "output_type": "execute_result",
          "data": {
            "text/plain": [
              "array([44, 56], dtype=uint16)"
            ]
          },
          "metadata": {},
          "execution_count": 138
        }
      ]
    },
    {
      "cell_type": "code",
      "source": [
        "index = np.array([\n",
        "    [3, 29], [3, 8]\n",
        "])\n",
        "fake_log[index]"
      ],
      "metadata": {
        "colab": {
          "base_uri": "https://localhost:8080/"
        },
        "id": "lboLIbNrQYAF",
        "outputId": "d3cf5539-cd72-49c4-9638-6ce6a8bfd285"
      },
      "execution_count": 139,
      "outputs": [
        {
          "output_type": "execute_result",
          "data": {
            "text/plain": [
              "array([[44, 56],\n",
              "       [44, 50]], dtype=uint16)"
            ]
          },
          "metadata": {},
          "execution_count": 139
        }
      ]
    },
    {
      "cell_type": "code",
      "source": [
        "study_minutes = np.append(study_minutes, [fake_log])\n",
        "study_minutes"
      ],
      "metadata": {
        "colab": {
          "base_uri": "https://localhost:8080/"
        },
        "id": "8wKeTOyoQwzo",
        "outputId": "e1900cef-d1b2-467c-e7b1-43accb696c98"
      },
      "execution_count": 140,
      "outputs": [
        {
          "output_type": "execute_result",
          "data": {
            "text/plain": [
              "array([  0,  60,   0,   0,   0,   0,   0,   0,   0,   0,   0,   0,   0,\n",
              "         0,   0,   0,   0,   0,   0,   0,   0,   0,   0,   0,   0,   0,\n",
              "         0,   0,   0,   0,   0,   0,   0,   0,   0,   0,   0,   0,   0,\n",
              "         0,   0,   0,   0,   0,   0,   0,   0,   0,   0,   0,   0,   0,\n",
              "         0,   0,   0,   0,   0,   0,   0,   0,   0,   0,   0,   0,   0,\n",
              "         0,   0,   0,   0,   0,   0,   0,   0,   0,   0,   0,   0,   0,\n",
              "         0,   0,   0,   0,   0,   0,   0,   0,   0,   0,   0,   0,   0,\n",
              "         0,   0,   0,   0,   0,   0,   0,   0,   0,  60,   0,   0,   0,\n",
              "         0,   0,   0,   0,   0,   0,   0,   0,   0,   0,   0,   0,   0,\n",
              "         0,   0,   0,   0,   0,   0,   0,   0,   0,   0,   0,   0,   0,\n",
              "         0,   0,   0,   0,   0,   0,   0,   0,   0,   0,   0,   0,   0,\n",
              "         0,   0,   0,   0,   0,   0,   0,   0,   0,   0,   0,   0,   0,\n",
              "         0,   0,   0,   0,   0,   0,   0,   0,   0,   0,   0,   0,   0,\n",
              "         0,   0,   0,   0,   0,   0,   0,   0,   0,   0,   0,   0,   0,\n",
              "         0,   0,   0,   0,   0,   0,   0,   0,   0,   0,   0,   0,   0,\n",
              "         0,   0,   0,   0,   0, 132, 122, 128,  44, 136, 129, 101,  95,\n",
              "        50, 132, 151,  64, 104, 175, 117, 146, 139, 129, 133, 176,  98,\n",
              "       160, 179,  99,  82, 142,  31, 106, 117,  56,  98,  67, 121, 159,\n",
              "        81, 170,  31,  50,  49,  87, 179,  51, 116, 177, 118,  78, 171,\n",
              "       117,  88, 123, 102,  44,  79,  31, 108,  80,  59, 137,  84,  93,\n",
              "       155, 160,  67,  80, 166, 164,  70,  50, 102, 113,  47, 131, 161,\n",
              "       118,  82,  89,  81,  43,  81,  38, 119,  52,  82,  31, 159,  57,\n",
              "       113,  71, 121, 140,  91,  70,  37, 106,  64, 127, 110,  58,  93,\n",
              "        79], dtype=uint16)"
            ]
          },
          "metadata": {},
          "execution_count": 140
        }
      ]
    },
    {
      "cell_type": "markdown",
      "source": [
        "**FILTER ARRAY Dengan Kondisi**\n",
        "\n",
        "> \n",
        "\n",
        "mencari durasi dibawah 1 jam (60 menit)\n",
        "\n",
        "\n"
      ],
      "metadata": {
        "id": "XHbdnjrlgZUR"
      }
    },
    {
      "cell_type": "code",
      "source": [
        "fake_log < 60 #true jika iya, false jika > 60 menit\n",
        "fake_log[fake_log < 60]  #diFilterkan nilai dibawah 60, maka akan dapatkan berikut"
      ],
      "metadata": {
        "colab": {
          "base_uri": "https://localhost:8080/"
        },
        "id": "8ZXSn5k_gnKz",
        "outputId": "0b4e4d6d-cb1b-4eb3-f198-fce1eae74d8c"
      },
      "execution_count": 148,
      "outputs": [
        {
          "output_type": "execute_result",
          "data": {
            "text/plain": [
              "array([44, 50, 31, 56, 31, 50, 49, 51, 44, 31, 59, 50, 47, 43, 38, 52, 31,\n",
              "       57, 37, 58], dtype=uint16)"
            ]
          },
          "metadata": {},
          "execution_count": 148
        }
      ]
    },
    {
      "cell_type": "code",
      "source": [
        "#namun step sebelumnya tidak dapat mengurangkan array yang dipilih dari jumlah total array yg 100 data sehingga perlu dibuat lingkup array baru untuk data yang diseleksi\n",
        "results = []\n",
        "for value in fake_log:\n",
        "  if value < 60:\n",
        "    results.append(value)\n",
        "np.array(results)"
      ],
      "metadata": {
        "colab": {
          "base_uri": "https://localhost:8080/"
        },
        "id": "RKS-9KR7hAit",
        "outputId": "f7788b98-e9b0-4478-cbd6-8886a2f8ea66"
      },
      "execution_count": 150,
      "outputs": [
        {
          "output_type": "execute_result",
          "data": {
            "text/plain": [
              "array([44, 50, 31, 56, 31, 50, 49, 51, 44, 31, 59, 50, 47, 43, 38, 52, 31,\n",
              "       57, 37, 58], dtype=uint16)"
            ]
          },
          "metadata": {},
          "execution_count": 150
        }
      ]
    },
    {
      "cell_type": "code",
      "source": [
        "study_minutes = np.zeros(100, np.uint16)\n",
        "study_minutes = np.append(study_minutes, [fake_log])\n",
        "study_minutes"
      ],
      "metadata": {
        "colab": {
          "base_uri": "https://localhost:8080/"
        },
        "id": "7LswI4qbhrin",
        "outputId": "b6895fff-b532-4a6e-d1ee-4e65666480b9"
      },
      "execution_count": 151,
      "outputs": [
        {
          "output_type": "execute_result",
          "data": {
            "text/plain": [
              "array([  0,   0,   0,   0,   0,   0,   0,   0,   0,   0,   0,   0,   0,\n",
              "         0,   0,   0,   0,   0,   0,   0,   0,   0,   0,   0,   0,   0,\n",
              "         0,   0,   0,   0,   0,   0,   0,   0,   0,   0,   0,   0,   0,\n",
              "         0,   0,   0,   0,   0,   0,   0,   0,   0,   0,   0,   0,   0,\n",
              "         0,   0,   0,   0,   0,   0,   0,   0,   0,   0,   0,   0,   0,\n",
              "         0,   0,   0,   0,   0,   0,   0,   0,   0,   0,   0,   0,   0,\n",
              "         0,   0,   0,   0,   0,   0,   0,   0,   0,   0,   0,   0,   0,\n",
              "         0,   0,   0,   0,   0,   0,   0,   0,   0, 132, 122, 128,  44,\n",
              "       136, 129, 101,  95,  50, 132, 151,  64, 104, 175, 117, 146, 139,\n",
              "       129, 133, 176,  98, 160, 179,  99,  82, 142,  31, 106, 117,  56,\n",
              "        98,  67, 121, 159,  81, 170,  31,  50,  49,  87, 179,  51, 116,\n",
              "       177, 118,  78, 171, 117,  88, 123, 102,  44,  79,  31, 108,  80,\n",
              "        59, 137,  84,  93, 155, 160,  67,  80, 166, 164,  70,  50, 102,\n",
              "       113,  47, 131, 161, 118,  82,  89,  81,  43,  81,  38, 119,  52,\n",
              "        82,  31, 159,  57, 113,  71, 121, 140,  91,  70,  37, 106,  64,\n",
              "       127, 110,  58,  93,  79], dtype=uint16)"
            ]
          },
          "metadata": {},
          "execution_count": 151
        }
      ]
    },
    {
      "cell_type": "code",
      "source": [
        "#Melakukan Filter dibawah 60 menit\n",
        "study_minutes[study_minutes < 60]"
      ],
      "metadata": {
        "colab": {
          "base_uri": "https://localhost:8080/"
        },
        "id": "oCHY7Jnwh9nJ",
        "outputId": "22313b6a-041f-44a9-f5c0-6aafd0d94c9b"
      },
      "execution_count": 152,
      "outputs": [
        {
          "output_type": "execute_result",
          "data": {
            "text/plain": [
              "array([ 0,  0,  0,  0,  0,  0,  0,  0,  0,  0,  0,  0,  0,  0,  0,  0,  0,\n",
              "        0,  0,  0,  0,  0,  0,  0,  0,  0,  0,  0,  0,  0,  0,  0,  0,  0,\n",
              "        0,  0,  0,  0,  0,  0,  0,  0,  0,  0,  0,  0,  0,  0,  0,  0,  0,\n",
              "        0,  0,  0,  0,  0,  0,  0,  0,  0,  0,  0,  0,  0,  0,  0,  0,  0,\n",
              "        0,  0,  0,  0,  0,  0,  0,  0,  0,  0,  0,  0,  0,  0,  0,  0,  0,\n",
              "        0,  0,  0,  0,  0,  0,  0,  0,  0,  0,  0,  0,  0,  0,  0, 44, 50,\n",
              "       31, 56, 31, 50, 49, 51, 44, 31, 59, 50, 47, 43, 38, 52, 31, 57, 37,\n",
              "       58], dtype=uint16)"
            ]
          },
          "metadata": {},
          "execution_count": 152
        }
      ]
    },
    {
      "cell_type": "code",
      "source": [
        "#jika ingin diatas 0 menit\n",
        "study_minutes[(study_minutes < 60) & (study_minutes > 0)]\n"
      ],
      "metadata": {
        "colab": {
          "base_uri": "https://localhost:8080/"
        },
        "id": "1APlYnjmiQO_",
        "outputId": "1f67ff4b-b935-45b5-92eb-8936d8dbe2c3"
      },
      "execution_count": 153,
      "outputs": [
        {
          "output_type": "execute_result",
          "data": {
            "text/plain": [
              "array([44, 50, 31, 56, 31, 50, 49, 51, 44, 31, 59, 50, 47, 43, 38, 52, 31,\n",
              "       57, 37, 58], dtype=uint16)"
            ]
          },
          "metadata": {},
          "execution_count": 153
        }
      ]
    },
    {
      "cell_type": "markdown",
      "source": [
        "**SLICING ARRAY**"
      ],
      "metadata": {
        "id": "ijxtHNiBRaU4"
      }
    },
    {
      "cell_type": "code",
      "source": [
        "practice = np.arange(42)  #dari range angka berurutan 0 hingga 42, totalnya 42 array\n",
        "practice.shape = (7, 6)  #7 array, 6 elemen\n",
        "practice"
      ],
      "metadata": {
        "colab": {
          "base_uri": "https://localhost:8080/"
        },
        "id": "Zu26KRALRZke",
        "outputId": "5d5c8133-6820-4a83-a52f-af7417d14665"
      },
      "execution_count": 141,
      "outputs": [
        {
          "output_type": "execute_result",
          "data": {
            "text/plain": [
              "array([[ 0,  1,  2,  3,  4,  5],\n",
              "       [ 6,  7,  8,  9, 10, 11],\n",
              "       [12, 13, 14, 15, 16, 17],\n",
              "       [18, 19, 20, 21, 22, 23],\n",
              "       [24, 25, 26, 27, 28, 29],\n",
              "       [30, 31, 32, 33, 34, 35],\n",
              "       [36, 37, 38, 39, 40, 41]])"
            ]
          },
          "metadata": {},
          "execution_count": 141
        }
      ]
    },
    {
      "cell_type": "code",
      "source": [
        "practice[2, 1]  #untuk mendapatkan angka 13, gunakan data pada array 3, elemen 2"
      ],
      "metadata": {
        "colab": {
          "base_uri": "https://localhost:8080/"
        },
        "id": "DBrqzTvBSXV9",
        "outputId": "fc7b8e98-b3a6-4e24-87ac-b6d59fc3cea0"
      },
      "execution_count": 60,
      "outputs": [
        {
          "output_type": "execute_result",
          "data": {
            "text/plain": [
              "13"
            ]
          },
          "metadata": {},
          "execution_count": 60
        }
      ]
    },
    {
      "cell_type": "code",
      "source": [
        "#memotong array dari 1-2 atau ingin mendapatkan array 3 hingga 5 saja\n",
        "practice[2:5]"
      ],
      "metadata": {
        "colab": {
          "base_uri": "https://localhost:8080/"
        },
        "id": "muqTSmOASkRu",
        "outputId": "bd211e9c-e6ef-4035-856d-ee4f2b136d01"
      },
      "execution_count": 61,
      "outputs": [
        {
          "output_type": "execute_result",
          "data": {
            "text/plain": [
              "array([[12, 13, 14, 15, 16, 17],\n",
              "       [18, 19, 20, 21, 22, 23],\n",
              "       [24, 25, 26, 27, 28, 29]])"
            ]
          },
          "metadata": {},
          "execution_count": 61
        }
      ]
    },
    {
      "cell_type": "code",
      "source": [
        "practice[2:5, 3]  #hanya data array 3-5, pada baris ke 4\n"
      ],
      "metadata": {
        "colab": {
          "base_uri": "https://localhost:8080/"
        },
        "id": "qQxNgfyJS540",
        "outputId": "642e7846-43f1-4b2c-830c-52c050cb9be5"
      },
      "execution_count": 64,
      "outputs": [
        {
          "output_type": "execute_result",
          "data": {
            "text/plain": [
              "array([15, 21, 27])"
            ]
          },
          "metadata": {},
          "execution_count": 64
        }
      ]
    },
    {
      "cell_type": "code",
      "source": [
        "practice[2:5, 3:] #hanya data array 3-5, pada baris 4-6"
      ],
      "metadata": {
        "colab": {
          "base_uri": "https://localhost:8080/"
        },
        "id": "Ds7YD1S9Te-c",
        "outputId": "5c844feb-27da-453c-8caf-458431f18fa1"
      },
      "execution_count": 65,
      "outputs": [
        {
          "output_type": "execute_result",
          "data": {
            "text/plain": [
              "array([[15, 16, 17],\n",
              "       [21, 22, 23],\n",
              "       [27, 28, 29]])"
            ]
          },
          "metadata": {},
          "execution_count": 65
        }
      ]
    },
    {
      "cell_type": "markdown",
      "source": [
        "**DEMO COPY VS VIEW**\n"
      ],
      "metadata": {
        "id": "m3QBjDo4T34p"
      }
    },
    {
      "cell_type": "code",
      "source": [
        "practice_list = [1, 2, 3]\n",
        "practice_list_copy = practice_list[:]\n",
        "practice_list, practice_list_copy\n",
        "practice_list_copy[0] = 12345 #mengkopi data pada kolom 1, data originalnya tidak berubah\n",
        "practice_list, practice_list_copy"
      ],
      "metadata": {
        "colab": {
          "base_uri": "https://localhost:8080/"
        },
        "id": "XZPMQjzBT6-O",
        "outputId": "343af00e-c385-42db-df22-886be445ac74"
      },
      "execution_count": 67,
      "outputs": [
        {
          "data": {
            "text/plain": [
              "([1, 2, 3], [12345, 2, 3])"
            ]
          },
          "execution_count": 67,
          "metadata": {},
          "output_type": "execute_result"
        }
      ]
    },
    {
      "cell_type": "code",
      "source": [
        "not_copied = practice [:]\n",
        "not_copied[0, 0] = 12345\n",
        "practice, not_copied #yang berubah adalah original juga ikut berubah, karena akan buat relasi"
      ],
      "metadata": {
        "colab": {
          "base_uri": "https://localhost:8080/"
        },
        "id": "XHgTT3w0UY5f",
        "outputId": "0b33911a-3623-4c58-f23d-1093c42bf0f1"
      },
      "execution_count": 69,
      "outputs": [
        {
          "output_type": "execute_result",
          "data": {
            "text/plain": [
              "(array([[12345,     1,     2,     3,     4,     5],\n",
              "        [    6,     7,     8,     9,    10,    11],\n",
              "        [   12,    13,    14,    15,    16,    17],\n",
              "        [   18,    19,    20,    21,    22,    23],\n",
              "        [   24,    25,    26,    27,    28,    29],\n",
              "        [   30,    31,    32,    33,    34,    35],\n",
              "        [   36,    37,    38,    39,    40,    41]]),\n",
              " array([[12345,     1,     2,     3,     4,     5],\n",
              "        [    6,     7,     8,     9,    10,    11],\n",
              "        [   12,    13,    14,    15,    16,    17],\n",
              "        [   18,    19,    20,    21,    22,    23],\n",
              "        [   24,    25,    26,    27,    28,    29],\n",
              "        [   30,    31,    32,    33,    34,    35],\n",
              "        [   36,    37,    38,    39,    40,    41]]))"
            ]
          },
          "metadata": {},
          "execution_count": 69
        }
      ]
    },
    {
      "cell_type": "code",
      "source": [
        "print(practice.base)"
      ],
      "metadata": {
        "colab": {
          "base_uri": "https://localhost:8080/"
        },
        "id": "GRmLCb3BU28a",
        "outputId": "6027a157-5fc1-4f49-fb50-090497df3feb"
      },
      "execution_count": 70,
      "outputs": [
        {
          "output_type": "stream",
          "name": "stdout",
          "text": [
            "None\n"
          ]
        }
      ]
    },
    {
      "cell_type": "code",
      "source": [
        "print(not_copied.base)"
      ],
      "metadata": {
        "colab": {
          "base_uri": "https://localhost:8080/"
        },
        "id": "SYv6095xU6X5",
        "outputId": "4cb57e4a-2ff6-43c6-9f68-e1319088fc1e"
      },
      "execution_count": 71,
      "outputs": [
        {
          "output_type": "stream",
          "name": "stdout",
          "text": [
            "[[12345     1     2     3     4     5]\n",
            " [    6     7     8     9    10    11]\n",
            " [   12    13    14    15    16    17]\n",
            " [   18    19    20    21    22    23]\n",
            " [   24    25    26    27    28    29]\n",
            " [   30    31    32    33    34    35]\n",
            " [   36    37    38    39    40    41]]\n"
          ]
        }
      ]
    },
    {
      "cell_type": "code",
      "source": [
        "not_copied.base is practice"
      ],
      "metadata": {
        "colab": {
          "base_uri": "https://localhost:8080/"
        },
        "id": "LG1WbGr_VBFP",
        "outputId": "4c62e412-8973-43b0-fbb3-347f436c9d71"
      },
      "execution_count": 72,
      "outputs": [
        {
          "output_type": "execute_result",
          "data": {
            "text/plain": [
              "True"
            ]
          },
          "metadata": {},
          "execution_count": 72
        }
      ]
    },
    {
      "cell_type": "code",
      "source": [
        "not_copied.base is practice_list"
      ],
      "metadata": {
        "colab": {
          "base_uri": "https://localhost:8080/"
        },
        "id": "1qbJnxnmVEvQ",
        "outputId": "c2aa3df2-0d05-4bec-987b-e5686daccac6"
      },
      "execution_count": 73,
      "outputs": [
        {
          "output_type": "execute_result",
          "data": {
            "text/plain": [
              "False"
            ]
          },
          "metadata": {},
          "execution_count": 73
        }
      ]
    },
    {
      "cell_type": "markdown",
      "source": [
        "**CH5 : ALJABAR LINEAR**"
      ],
      "metadata": {
        "id": "0YM6oTv-Xa_t"
      }
    },
    {
      "cell_type": "code",
      "source": [
        "orders = np.array([\n",
        "    [2, 0, 0, 0], \n",
        "     [1, 0, 2, 4],\n",
        "     [1, 2, 1, 0],\n",
        "     [4, 6, 0, 2]\n",
        "])  #orderan per hari, berurutan sesuai jumlah item\n",
        "totals = np.array([20000, 32000, 20000, 61000]) #harga total per hari\n",
        "prices = np.linalg.solve(orders, totals)\n",
        "prices #ouput adalah harga per item"
      ],
      "metadata": {
        "colab": {
          "base_uri": "https://localhost:8080/"
        },
        "id": "H_gKzwtcXe3A",
        "outputId": "739fcea9-ab42-4e37-a9d2-cf337125347e"
      },
      "execution_count": 76,
      "outputs": [
        {
          "output_type": "execute_result",
          "data": {
            "text/plain": [
              "array([10000.,  2500.,  5000.,  3000.])"
            ]
          },
          "metadata": {},
          "execution_count": 76
        }
      ]
    },
    {
      "cell_type": "markdown",
      "source": [
        "**L2 CH5 : FUNGSI UNIVERSAL**"
      ],
      "metadata": {
        "id": "4zLO0dNtZJMs"
      }
    },
    {
      "cell_type": "code",
      "source": [
        "a, b = np.split(np.arange(1, 11), 2) #angka 1-10 dipisahkan menjadi 2 bagian\n",
        "a, b\n"
      ],
      "metadata": {
        "colab": {
          "base_uri": "https://localhost:8080/"
        },
        "id": "ExcY5JNsZOIA",
        "outputId": "ebf40490-0a71-4f6c-b313-df85a635f8a0"
      },
      "execution_count": 79,
      "outputs": [
        {
          "output_type": "execute_result",
          "data": {
            "text/plain": [
              "(array([1, 2, 3, 4, 5]), array([ 6,  7,  8,  9, 10]))"
            ]
          },
          "metadata": {},
          "execution_count": 79
        }
      ]
    },
    {
      "cell_type": "code",
      "source": [
        "a + b"
      ],
      "metadata": {
        "colab": {
          "base_uri": "https://localhost:8080/"
        },
        "id": "8dwZANlSZ-mq",
        "outputId": "6d25dd79-2d03-40ce-a513-c09fb3794cb0"
      },
      "execution_count": 85,
      "outputs": [
        {
          "output_type": "execute_result",
          "data": {
            "text/plain": [
              "array([ 7,  9, 11, 13, 15])"
            ]
          },
          "metadata": {},
          "execution_count": 85
        }
      ]
    },
    {
      "cell_type": "code",
      "source": [
        "a * b"
      ],
      "metadata": {
        "colab": {
          "base_uri": "https://localhost:8080/"
        },
        "id": "-kYjGvmNaBSq",
        "outputId": "f82942ea-3757-4961-be17-ca8c9a8eac40"
      },
      "execution_count": 80,
      "outputs": [
        {
          "output_type": "execute_result",
          "data": {
            "text/plain": [
              "array([ 6, 14, 24, 36, 50])"
            ]
          },
          "metadata": {},
          "execution_count": 80
        }
      ]
    },
    {
      "cell_type": "code",
      "source": [
        "a - b"
      ],
      "metadata": {
        "colab": {
          "base_uri": "https://localhost:8080/"
        },
        "id": "IWPABTVTaCmq",
        "outputId": "5cc70f55-e011-49b9-bf4c-8264dd9cf0e4"
      },
      "execution_count": 81,
      "outputs": [
        {
          "output_type": "execute_result",
          "data": {
            "text/plain": [
              "array([-5, -5, -5, -5, -5])"
            ]
          },
          "metadata": {},
          "execution_count": 81
        }
      ]
    },
    {
      "cell_type": "code",
      "source": [
        "b-a"
      ],
      "metadata": {
        "colab": {
          "base_uri": "https://localhost:8080/"
        },
        "id": "YXnINQD7aFbA",
        "outputId": "ac3a8fbb-7de2-4f31-d81b-a80356bffb1a"
      },
      "execution_count": 84,
      "outputs": [
        {
          "output_type": "execute_result",
          "data": {
            "text/plain": [
              "array([5, 5, 5, 5, 5])"
            ]
          },
          "metadata": {},
          "execution_count": 84
        }
      ]
    },
    {
      "cell_type": "code",
      "source": [
        "#bisa ditambahkan dengan scalar\n",
        "a + 3"
      ],
      "metadata": {
        "colab": {
          "base_uri": "https://localhost:8080/"
        },
        "id": "MLp9jXcYaGMd",
        "outputId": "cfc2664e-64c2-48bc-ecaf-de0fe791cfa5"
      },
      "execution_count": 86,
      "outputs": [
        {
          "output_type": "execute_result",
          "data": {
            "text/plain": [
              "array([4, 5, 6, 7, 8])"
            ]
          },
          "metadata": {},
          "execution_count": 86
        }
      ]
    },
    {
      "cell_type": "code",
      "source": [
        "a + np.repeat(3, 5)  #sama juga ditambahkan dengan scalar, namun sistemnya setiap angka dalam array ditamban dengan 3 yang diulang pada setiap data"
      ],
      "metadata": {
        "colab": {
          "base_uri": "https://localhost:8080/"
        },
        "id": "1zUjpbo3aQZ-",
        "outputId": "ffaa0382-a52a-41f7-fd30-df8edb496549"
      },
      "execution_count": 88,
      "outputs": [
        {
          "output_type": "execute_result",
          "data": {
            "text/plain": [
              "array([4, 5, 6, 7, 8])"
            ]
          },
          "metadata": {},
          "execution_count": 88
        }
      ]
    },
    {
      "cell_type": "code",
      "source": [
        "#LATIHAN\n",
        "x1 = np.arange(9.0).reshape((3,3))  #angka 1 hingga 9 di reshape menjadi 3 kali 3\n",
        "x2 = np.arange(3.0)\n",
        "x1, x2"
      ],
      "metadata": {
        "colab": {
          "base_uri": "https://localhost:8080/"
        },
        "id": "M0sFeX-iaVWI",
        "outputId": "7a958456-4a05-4b54-f3e8-56dd6138e965"
      },
      "execution_count": 92,
      "outputs": [
        {
          "output_type": "execute_result",
          "data": {
            "text/plain": [
              "(array([[0., 1., 2.],\n",
              "        [3., 4., 5.],\n",
              "        [6., 7., 8.]]), array([0., 1., 2.]))"
            ]
          },
          "metadata": {},
          "execution_count": 92
        }
      ]
    },
    {
      "cell_type": "code",
      "source": [
        "np.add(x1, x2)  #mereka akan saling menambahkan"
      ],
      "metadata": {
        "colab": {
          "base_uri": "https://localhost:8080/"
        },
        "id": "qICJQupEbCNf",
        "outputId": "c52bc443-dd1f-46da-b916-dad6f0937fe0"
      },
      "execution_count": 94,
      "outputs": [
        {
          "output_type": "execute_result",
          "data": {
            "text/plain": [
              "array([[ 0.,  2.,  4.],\n",
              "       [ 3.,  5.,  7.],\n",
              "       [ 6.,  8., 10.]])"
            ]
          },
          "metadata": {},
          "execution_count": 94
        }
      ]
    },
    {
      "cell_type": "code",
      "source": [
        "np.add(x1, 3) #menambhan denga scalar"
      ],
      "metadata": {
        "colab": {
          "base_uri": "https://localhost:8080/"
        },
        "id": "KG_1-4tDbTxR",
        "outputId": "8c74a5a0-2a22-4d72-cfa4-24bae39c9315"
      },
      "execution_count": 95,
      "outputs": [
        {
          "output_type": "execute_result",
          "data": {
            "text/plain": [
              "array([[ 3.,  4.,  5.],\n",
              "       [ 6.,  7.,  8.],\n",
              "       [ 9., 10., 11.]])"
            ]
          },
          "metadata": {},
          "execution_count": 95
        }
      ]
    },
    {
      "cell_type": "markdown",
      "source": [
        "**L3 CH5 : OPERASI MATRIKS LAINNYA**\n",
        "\n",
        "1.   silahkan cek statistika lainnya di library python\n",
        "\n",
        "\n",
        "\n",
        "\n"
      ],
      "metadata": {
        "id": "9nUeRSCeakKG"
      }
    },
    {
      "cell_type": "code",
      "source": [
        "studi_less = study_minutes[(study_minutes < 60) & (study_minutes > 0)]\n",
        "print(studi_less)\n",
        "np.add.reduce(studi_less)"
      ],
      "metadata": {
        "colab": {
          "base_uri": "https://localhost:8080/"
        },
        "id": "JLD9kUctcFa5",
        "outputId": "c1d06f47-25c6-483e-d0c9-9fcd56e1ddb1"
      },
      "execution_count": 142,
      "outputs": [
        {
          "output_type": "stream",
          "name": "stdout",
          "text": [
            "[44 50 31 56 31 50 49 51 44 31 59 50 47 43 38 52 31 57 37 58]\n"
          ]
        },
        {
          "output_type": "execute_result",
          "data": {
            "text/plain": [
              "909"
            ]
          },
          "metadata": {},
          "execution_count": 142
        }
      ]
    },
    {
      "cell_type": "code",
      "source": [
        "np.sum(studi_less)"
      ],
      "metadata": {
        "colab": {
          "base_uri": "https://localhost:8080/"
        },
        "id": "kPIJ4ETudqiq",
        "outputId": "b015dc47-25db-4ff9-f10e-f12ef6935f86"
      },
      "execution_count": 143,
      "outputs": [
        {
          "output_type": "execute_result",
          "data": {
            "text/plain": [
              "909"
            ]
          },
          "metadata": {},
          "execution_count": 143
        }
      ]
    },
    {
      "cell_type": "code",
      "source": [
        "np.sum(study_minutes)"
      ],
      "metadata": {
        "colab": {
          "base_uri": "https://localhost:8080/"
        },
        "id": "h9U0ldJ2eCYQ",
        "outputId": "85c4fe3f-e041-4e2d-cbf7-aab31d7cdd0d"
      },
      "execution_count": 144,
      "outputs": [
        {
          "output_type": "execute_result",
          "data": {
            "text/plain": [
              "10319"
            ]
          },
          "metadata": {},
          "execution_count": 144
        }
      ]
    },
    {
      "cell_type": "code",
      "source": [],
      "metadata": {
        "id": "xuX4aOzVjl9i"
      },
      "execution_count": null,
      "outputs": []
    },
    {
      "cell_type": "markdown",
      "source": [
        " ## **VISUALISASI**\n",
        "> **MatPlotLib**"
      ],
      "metadata": {
        "id": "jk7eUesVjm2g"
      }
    },
    {
      "cell_type": "code",
      "source": [
        "import matplotlib as mt\n",
        "import matplotlib.pyplot as plt\n"
      ],
      "metadata": {
        "id": "mYHY9b2ukDsu"
      },
      "execution_count": 155,
      "outputs": []
    },
    {
      "cell_type": "code",
      "source": [
        "plt.hist(study_minutes[study_minutes > 0])\n",
        "plt.plot()"
      ],
      "metadata": {
        "colab": {
          "base_uri": "https://localhost:8080/",
          "height": 282
        },
        "id": "cFSBd05lkKsw",
        "outputId": "6d32409a-85a2-4e1e-fd4d-57e447763bc5"
      },
      "execution_count": 156,
      "outputs": [
        {
          "output_type": "execute_result",
          "data": {
            "text/plain": [
              "[]"
            ]
          },
          "metadata": {},
          "execution_count": 156
        },
        {
          "output_type": "display_data",
          "data": {
            "text/plain": [
              "<Figure size 432x288 with 1 Axes>"
            ],
            "image/png": "[encoded data removed]"
          },
          "metadata": {
            "needs_background": "light"
          }
        }
      ]
    }
  ]
}