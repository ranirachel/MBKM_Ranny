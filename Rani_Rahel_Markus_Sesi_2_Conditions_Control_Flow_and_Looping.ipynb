{
  "nbformat": 4,
  "nbformat_minor": 0,
  "metadata": {
    "colab": {
      "provenance": [],
      "authorship_tag": "ABX9TyPa+7LIHfKb3ArRVD4xZoQj",
      "include_colab_link": true
    },
    "kernelspec": {
      "name": "python3",
      "display_name": "Python 3"
    },
    "language_info": {
      "name": "python"
    }
  },
  "cells": [
    {
      "cell_type": "markdown",
      "metadata": {
        "id": "view-in-github",
        "colab_type": "text"
      },
      "source": [
        "<a href=\"https://colab.research.google.com/github/ranirachel/MBKM_Ranny/blob/Session-Learning-Hactive8/Rani_Rahel_Markus_Sesi_2_Conditions_Control_Flow_and_Looping.ipynb\" target=\"_parent\"><img src=\"https://colab.research.google.com/assets/colab-badge.svg\" alt=\"Open In Colab\"/></a>"
      ]
    },
    {
      "cell_type": "markdown",
      "source": [
        "Conditional\n",
        "- If statement"
      ],
      "metadata": {
        "id": "GnfSoeEhkijt"
      }
    },
    {
      "cell_type": "code",
      "execution_count": null,
      "metadata": {
        "colab": {
          "base_uri": "https://localhost:8080/"
        },
        "id": "lJUE2Z9ojyfT",
        "outputId": "35305c45-71e2-4156-e59e-4ded43bb1145"
      },
      "outputs": [
        {
          "output_type": "stream",
          "name": "stdout",
          "text": [
            "yes\n",
            "yes\n",
            "yes\n"
          ]
        }
      ],
      "source": [
        "x = 0\n",
        "y = 5\n",
        "\n",
        "if x< y:\n",
        "  print('yes')\n",
        "\n",
        "if y < x:\n",
        "  print('yes')\n",
        "\n",
        "if y:\n",
        "  print('yes')\n",
        "\n",
        "if 'aul' in 'grault':\n",
        "  print('yes')\n",
        "\n",
        "if 'quux' in ['foo', 'bar', 'baz']:\n",
        "  print('yes')"
      ]
    },
    {
      "cell_type": "code",
      "source": [
        "if 'foo' in ['bar', 'baz', 'quz']:\n",
        "  print('Expression was true')\n",
        "  print('Executing statement in suite')\n",
        "  print('....')\n",
        "  print('Done')\n",
        "\n",
        "print('After conditional')"
      ],
      "metadata": {
        "colab": {
          "base_uri": "https://localhost:8080/"
        },
        "id": "p6OgJA6mlP2p",
        "outputId": "f983f6ab-db56-4175-902f-024643919f50"
      },
      "execution_count": null,
      "outputs": [
        {
          "output_type": "stream",
          "name": "stdout",
          "text": [
            "After conditional\n"
          ]
        }
      ]
    },
    {
      "cell_type": "code",
      "source": [
        "if 'foo' in ['bar', 'baz', 'quz']:\n",
        "  print('Outer condition was true')\n",
        "\n",
        "  if 10 > 20:\n",
        "    print('inner condition 1')\n",
        "  \n",
        "  print('Between inner conditions 2')\n",
        "\n",
        "  if 10 < 20:\n",
        "    print('inner condition 2')\n",
        "  \n",
        "  print('end of outer conditions')\n",
        "print('after outer condition')"
      ],
      "metadata": {
        "id": "8SjZhoNWljbR"
      },
      "execution_count": null,
      "outputs": []
    },
    {
      "cell_type": "code",
      "source": [
        "x = 20\n",
        "\n",
        "if x < 50:\n",
        "  print('(first suiter)')\n",
        "  print('x is small')\n",
        "else:\n",
        "  print('(second suiter)')\n",
        "  print('x is large')"
      ],
      "metadata": {
        "colab": {
          "base_uri": "https://localhost:8080/"
        },
        "id": "xgvbfS1emXOB",
        "outputId": "2fe27d1b-e88f-4ca5-cc59-e58e088bf088"
      },
      "execution_count": null,
      "outputs": [
        {
          "output_type": "stream",
          "name": "stdout",
          "text": [
            "(first suiter)\n",
            "x is small\n"
          ]
        }
      ]
    },
    {
      "cell_type": "code",
      "source": [
        "x = 120\n",
        "\n",
        "if x < 50:\n",
        "  print('(first suiter)')\n",
        "  print('x is small')\n",
        "else:\n",
        "  print('(second suiter)')\n",
        "  print('x is large')"
      ],
      "metadata": {
        "colab": {
          "base_uri": "https://localhost:8080/"
        },
        "id": "kNNcQTJkmpdS",
        "outputId": "2d6d16dc-e7cd-4b9e-ef88-8f0fa22854d1"
      },
      "execution_count": null,
      "outputs": [
        {
          "output_type": "stream",
          "name": "stdout",
          "text": [
            "(second suiter)\n",
            "x is large\n"
          ]
        }
      ]
    },
    {
      "cell_type": "code",
      "source": [
        "hargabuku = 20000\n",
        "hargaMajalah = 5000\n",
        "uang = 2000\n",
        "\n",
        "if uang > hargabuku:\n",
        "  print('beli buku')\n",
        "else:\n",
        "  print('uang tidak cukup')"
      ],
      "metadata": {
        "colab": {
          "base_uri": "https://localhost:8080/"
        },
        "id": "C0YDdWdAmvZ_",
        "outputId": "d8792b1c-cf77-44cc-9b87-6ef698ea878b"
      },
      "execution_count": null,
      "outputs": [
        {
          "output_type": "stream",
          "name": "stdout",
          "text": [
            "uang tidak cukup\n"
          ]
        }
      ]
    },
    {
      "cell_type": "code",
      "source": [
        "hargabuku = 20000\n",
        "hargaMajalah = 5000\n",
        "uang = 21000\n",
        "\n",
        "if uang > hargabuku:\n",
        "  print('beli buku')\n",
        "elif uang > hargaMajalah:\n",
        "  print('beli majalah')\n",
        "else:\n",
        "  print('uang tidak cukup')"
      ],
      "metadata": {
        "colab": {
          "base_uri": "https://localhost:8080/"
        },
        "id": "cEQHBLGBnAVG",
        "outputId": "59ce2c25-0d4a-4df5-835c-23921f3b94d7"
      },
      "execution_count": null,
      "outputs": [
        {
          "output_type": "stream",
          "name": "stdout",
          "text": [
            "beli buku\n"
          ]
        }
      ]
    },
    {
      "cell_type": "code",
      "source": [
        "if 'a' in 'bar':\n",
        "  print('foo')\n",
        "elif 1/0:\n",
        "  print(\"This won't happen\")\n",
        "elif var:\n",
        "  print('This wont either')"
      ],
      "metadata": {
        "colab": {
          "base_uri": "https://localhost:8080/"
        },
        "id": "LbqV58QxoWoc",
        "outputId": "0c6f4cde-8006-4fa5-88f9-af21190d5ccf"
      },
      "execution_count": null,
      "outputs": [
        {
          "output_type": "stream",
          "name": "stdout",
          "text": [
            "foo\n"
          ]
        }
      ]
    },
    {
      "cell_type": "code",
      "source": [
        "if 'f' in 'foo': print('1'); print('2'); print('3')"
      ],
      "metadata": {
        "colab": {
          "base_uri": "https://localhost:8080/"
        },
        "id": "FCrd0CBom9pG",
        "outputId": "355caa98-94cc-4519-da75-404123952f66"
      },
      "execution_count": null,
      "outputs": [
        {
          "output_type": "stream",
          "name": "stdout",
          "text": [
            "1\n",
            "2\n",
            "3\n"
          ]
        }
      ]
    },
    {
      "cell_type": "code",
      "source": [
        "x = 2\n",
        "if x == 1: print('foo'); print('bar'); print('baz')\n",
        "elif x ==2: print('qux'); print('quux')\n",
        "else: print('corge'); print('grault')"
      ],
      "metadata": {
        "colab": {
          "base_uri": "https://localhost:8080/"
        },
        "id": "IyPOeqIDo1JB",
        "outputId": "285a0e67-4761-49fd-ee78-7bdbebf674e5"
      },
      "execution_count": null,
      "outputs": [
        {
          "output_type": "stream",
          "name": "stdout",
          "text": [
            "qux\n",
            "quux\n"
          ]
        }
      ]
    },
    {
      "cell_type": "code",
      "source": [
        "x = 3\n",
        "if x == 1: print('foo'); print('bar'); print('baz')\n",
        "elif x ==2: print('qux'); print('quux')\n",
        "else: print('corge'); print('grault')"
      ],
      "metadata": {
        "colab": {
          "base_uri": "https://localhost:8080/"
        },
        "id": "x4lVDGZmpP8I",
        "outputId": "2881ab7d-b5ab-4669-8c72-2247dd920a1f"
      },
      "execution_count": null,
      "outputs": [
        {
          "output_type": "stream",
          "name": "stdout",
          "text": [
            "corge\n",
            "grault\n"
          ]
        }
      ]
    },
    {
      "cell_type": "code",
      "source": [
        "raining = False #kondisi jika tidak sedang hujan\n",
        "print('lets go the', 'beach' if not raining else 'library')"
      ],
      "metadata": {
        "colab": {
          "base_uri": "https://localhost:8080/"
        },
        "id": "q08YlJjxpVkO",
        "outputId": "ad4568c3-629c-4153-9a11-5df0610f983e"
      },
      "execution_count": null,
      "outputs": [
        {
          "output_type": "stream",
          "name": "stdout",
          "text": [
            "lets go the beach\n"
          ]
        }
      ]
    },
    {
      "cell_type": "code",
      "source": [
        "raining = True #jika benar hujan\n",
        "print('lets go the', 'beach' if not raining else 'library')"
      ],
      "metadata": {
        "colab": {
          "base_uri": "https://localhost:8080/"
        },
        "id": "4pvwI7mdpmQ7",
        "outputId": "2660097d-127a-41dc-a86b-60f81c2639eb"
      },
      "execution_count": null,
      "outputs": [
        {
          "output_type": "stream",
          "name": "stdout",
          "text": [
            "lets go the library\n"
          ]
        }
      ]
    },
    {
      "cell_type": "code",
      "source": [
        "#prediksi umur\n",
        "age = 12\n",
        "s = 'teen' if age < 21 else 'adult'\n",
        "s"
      ],
      "metadata": {
        "colab": {
          "base_uri": "https://localhost:8080/",
          "height": 35
        },
        "id": "i2Pw2_kkptnz",
        "outputId": "cad3a09a-3bd2-430a-843f-ea2c5a1c5e44"
      },
      "execution_count": null,
      "outputs": [
        {
          "output_type": "execute_result",
          "data": {
            "text/plain": [
              "'teen'"
            ],
            "application/vnd.google.colaboratory.intrinsic+json": {
              "type": "string"
            }
          },
          "metadata": {},
          "execution_count": 35
        }
      ]
    },
    {
      "cell_type": "code",
      "source": [
        "#prediksi umur\n",
        "age = 21\n",
        "s = 'teen' if age < 21 else 'adult'\n",
        "s"
      ],
      "metadata": {
        "colab": {
          "base_uri": "https://localhost:8080/",
          "height": 35
        },
        "id": "BV_cAMl6p2Xa",
        "outputId": "71a91a9f-10ec-4187-f663-59df14c67f1d"
      },
      "execution_count": null,
      "outputs": [
        {
          "output_type": "execute_result",
          "data": {
            "text/plain": [
              "'adult'"
            ],
            "application/vnd.google.colaboratory.intrinsic+json": {
              "type": "string"
            }
          },
          "metadata": {},
          "execution_count": 36
        }
      ]
    },
    {
      "cell_type": "markdown",
      "source": [
        "Looping\n",
        "- While Loop"
      ],
      "metadata": {
        "id": "vO_siLHbp-or"
      }
    },
    {
      "cell_type": "code",
      "source": [
        "n = 5\n",
        "while n > 0:\n",
        "  n -= 1\n",
        "  print(n)"
      ],
      "metadata": {
        "colab": {
          "base_uri": "https://localhost:8080/"
        },
        "id": "MNJsBNOup4Ma",
        "outputId": "8368827e-ad12-442c-c5ca-fe62033e5b02"
      },
      "execution_count": null,
      "outputs": [
        {
          "output_type": "stream",
          "name": "stdout",
          "text": [
            "4\n",
            "3\n",
            "2\n",
            "1\n",
            "0\n"
          ]
        }
      ]
    },
    {
      "cell_type": "code",
      "source": [
        "n = 5\n",
        "while n > 0:\n",
        "  n -= 1\n",
        "  if n == 2:\n",
        "    break #menghentikan statement secara paksa\n",
        "  print(n)\n",
        "print('Loop ended.')"
      ],
      "metadata": {
        "colab": {
          "base_uri": "https://localhost:8080/"
        },
        "id": "MOYCEZPqqKHG",
        "outputId": "7a411b9f-3f76-43ac-b3cc-ae1fcbf322b8"
      },
      "execution_count": null,
      "outputs": [
        {
          "output_type": "stream",
          "name": "stdout",
          "text": [
            "4\n",
            "3\n",
            "Loop ended.\n"
          ]
        }
      ]
    },
    {
      "cell_type": "code",
      "source": [
        "n = 5\n",
        "while n > 0:\n",
        "  n -= 1\n",
        "  if n == 2:\n",
        "    continue #melanjutkan statemen, ketika n adalah 2 menyebabkan penghentian iterasi hanya di 2 dan dilanjutkan kemudian\n",
        "  print(n)\n",
        "print('Loop ended.')"
      ],
      "metadata": {
        "colab": {
          "base_uri": "https://localhost:8080/"
        },
        "id": "XnD0mUYErGYs",
        "outputId": "b8f55c73-54a1-4ffc-d5e2-dc1f8200f6f6"
      },
      "execution_count": null,
      "outputs": [
        {
          "output_type": "stream",
          "name": "stdout",
          "text": [
            "4\n",
            "3\n",
            "1\n",
            "0\n",
            "Loop ended.\n"
          ]
        }
      ]
    },
    {
      "cell_type": "markdown",
      "source": [
        "- The else Clause"
      ],
      "metadata": {
        "id": "2L5c2IBGrdsr"
      }
    },
    {
      "cell_type": "code",
      "source": [
        "n = 5\n",
        "while n > 0:\n",
        "  n -= 1\n",
        "  print(n)\n",
        "else:\n",
        "  print('Loop done.')"
      ],
      "metadata": {
        "colab": {
          "base_uri": "https://localhost:8080/"
        },
        "id": "2NRbI3DwrcW_",
        "outputId": "a752a319-017a-4af2-dd31-c7805cbb1e8e"
      },
      "execution_count": null,
      "outputs": [
        {
          "output_type": "stream",
          "name": "stdout",
          "text": [
            "4\n",
            "3\n",
            "2\n",
            "1\n",
            "0\n",
            "Loop done.\n"
          ]
        }
      ]
    },
    {
      "cell_type": "code",
      "source": [
        "n = 5\n",
        "while n > 0:\n",
        "  n -= 1\n",
        "  print(n)\n",
        "  if n == 2 :\n",
        "    break\n",
        "else:\n",
        "  print('Loop done.')"
      ],
      "metadata": {
        "colab": {
          "base_uri": "https://localhost:8080/"
        },
        "id": "eV6nYxmOrUBl",
        "outputId": "61c460f4-79b3-4b2c-c1ce-a02b0483d726"
      },
      "execution_count": null,
      "outputs": [
        {
          "output_type": "stream",
          "name": "stdout",
          "text": [
            "4\n",
            "3\n",
            "2\n"
          ]
        }
      ]
    },
    {
      "cell_type": "code",
      "source": [
        "age = 24\n",
        "gender = 'F'\n",
        "\n",
        "if age < 18:\n",
        "  if gender == 'M':\n",
        "   print('son')\n",
        "  else :\n",
        "    print('daughter')\n",
        "elif age >= 18 and age < 65:\n",
        "  if gender == 'M':\n",
        "   print('father')\n",
        "  else :\n",
        "    print('mother')  \n",
        "else:\n",
        "  if gender == 'M':\n",
        "   print('granpa')\n",
        "  else :\n",
        "    print('granma')"
      ],
      "metadata": {
        "colab": {
          "base_uri": "https://localhost:8080/"
        },
        "id": "ESYJ1N5vr1Q5",
        "outputId": "3dee85af-ba6f-412d-d86c-a16be1d3f2e6"
      },
      "execution_count": null,
      "outputs": [
        {
          "output_type": "stream",
          "name": "stdout",
          "text": [
            "mother\n"
          ]
        }
      ]
    },
    {
      "cell_type": "markdown",
      "source": [
        "- Infinite Loops"
      ],
      "metadata": {
        "id": "ZuLTE6ZAs1PG"
      }
    },
    {
      "cell_type": "code",
      "source": [
        "While True:\n",
        " print('foo')"
      ],
      "metadata": {
        "id": "0CBzZTgPswjp"
      },
      "execution_count": null,
      "outputs": []
    },
    {
      "cell_type": "markdown",
      "source": [
        "**-Nested While Loops**"
      ],
      "metadata": {
        "id": "rBQYTKMstOAz"
      }
    },
    {
      "cell_type": "code",
      "source": [
        "age = 24\n",
        "gender = 'F'\n",
        "\n",
        "if age < 18:\n",
        "  if gender == 'M':\n",
        "   print('son')\n",
        "  else :\n",
        "    print('daughter')\n",
        "elif age >= 18 and age < 65:\n",
        "  if gender == 'M':\n",
        "   print('father')\n",
        "  else :\n",
        "    print('mother')  \n",
        "else:\n",
        "  if gender == 'M':\n",
        "   print('granpa')\n",
        "  else :\n",
        "    print('granma')"
      ],
      "metadata": {
        "id": "BobfZBDbtRzh"
      },
      "execution_count": null,
      "outputs": []
    },
    {
      "cell_type": "markdown",
      "source": [
        "**One-Line While Loops** "
      ],
      "metadata": {
        "id": "I52vG4Q3tbYc"
      }
    },
    {
      "cell_type": "code",
      "source": [
        "n = 5\n",
        "while n > 0: n -=1; print(n)"
      ],
      "metadata": {
        "colab": {
          "base_uri": "https://localhost:8080/"
        },
        "id": "jgE-rGkptk6t",
        "outputId": "21fb0387-e2fd-4de6-802d-38a3db12c01c"
      },
      "execution_count": null,
      "outputs": [
        {
          "output_type": "stream",
          "name": "stdout",
          "text": [
            "4\n",
            "3\n",
            "2\n",
            "1\n",
            "0\n"
          ]
        }
      ]
    },
    {
      "cell_type": "markdown",
      "source": [
        "CONTOH LOOP AND BRANCH DIGUNAKAN PADA KASUS TEMPERATUR"
      ],
      "metadata": {
        "id": "FCj5u5Bgt1BQ"
      }
    },
    {
      "cell_type": "code",
      "source": [
        "temp = input('Tempertur yang ingin dikonversikan dari F ke C atau sebaliknya misal 45F, 120C:')\n",
        "degree = int(temp[:-1])\n",
        "i_convertion = temp[-1]\n",
        "\n",
        "if i_convertion == 'C':\n",
        "  result = int(round((9*degree)/5 + 32))\n",
        "elif i_convertion == 'F':\n",
        "  result = int(round((degree - 32)* 5 / 9))\n",
        "\n",
        "else:\n",
        "  print('Masukkan input yang benar')\n",
        "\n",
        "print('Temperatur adalah', result, 'derajat')"
      ],
      "metadata": {
        "colab": {
          "base_uri": "https://localhost:8080/"
        },
        "id": "WHWdrbkMt56A",
        "outputId": "72281be8-b76b-4d82-e3d5-ffae416ecaab"
      },
      "execution_count": null,
      "outputs": [
        {
          "output_type": "stream",
          "name": "stdout",
          "text": [
            "Tempertur yang ingin dikonversikan dari F ke C atau sebaliknya misal 45F, 120C:45F\n",
            "Temperatur adalah 7 derajat\n"
          ]
        }
      ]
    }
  ]
}